{
 "cells": [
  {
   "cell_type": "markdown",
   "metadata": {},
   "source": [
    "# Week 3: Language Modeling I\n",
    "\n",
    "In this week's section, we'll explore basic techniques for language modeling. \n",
    "\n",
    "We'll first dig into word distributions to illustrate the sparsity problem and the difficulty of prediction.\n",
    "\n",
    "Then, we'll look at a simple N-gram language model and generate some sample sentences. In the homework, you'll extend this by implementing smoothing techniques that improve performance, and perform some more detailed analysis of the model.\n",
    "\n",
    "**Note:** if you're viewing this in-browser, jump over to the NBViewer link. This will get around GitHub's JavaScript block and properly render the plots:  \n",
    "http://nbviewer.jupyter.org/github/datasci-w266/2018-spring-main/blob/master/materials/simple_lm/lm1.ipynb\n",
    "\n",
    "We'll use [Bokeh](https://bokeh.pydata.org/en/latest/docs/user_guide/quickstart.html) for plotting some data in this notebook. It's similar to `matplotlib`, but renders JavaScript-based plots that support more interactive control."
   ]
  },
  {
   "cell_type": "code",
   "execution_count": 5,
   "metadata": {},
   "outputs": [
    {
     "data": {
      "text/html": [
       "\n",
       "    <div class=\"bk-root\">\n",
       "        <a href=\"https://bokeh.pydata.org\" target=\"_blank\" class=\"bk-logo bk-logo-small bk-logo-notebook\"></a>\n",
       "        <span id=\"575a2ba0-781c-4522-97ad-85d567397480\">Loading BokehJS ...</span>\n",
       "    </div>"
      ]
     },
     "metadata": {},
     "output_type": "display_data"
    },
    {
     "data": {
      "application/javascript": [
       "\n",
       "(function(root) {\n",
       "  function now() {\n",
       "    return new Date();\n",
       "  }\n",
       "\n",
       "  var force = true;\n",
       "\n",
       "  if (typeof (root._bokeh_onload_callbacks) === \"undefined\" || force === true) {\n",
       "    root._bokeh_onload_callbacks = [];\n",
       "    root._bokeh_is_loading = undefined;\n",
       "  }\n",
       "\n",
       "  var JS_MIME_TYPE = 'application/javascript';\n",
       "  var HTML_MIME_TYPE = 'text/html';\n",
       "  var EXEC_MIME_TYPE = 'application/vnd.bokehjs_exec.v0+json';\n",
       "  var CLASS_NAME = 'output_bokeh rendered_html';\n",
       "\n",
       "  /**\n",
       "   * Render data to the DOM node\n",
       "   */\n",
       "  function render(props, node) {\n",
       "    var script = document.createElement(\"script\");\n",
       "    node.appendChild(script);\n",
       "  }\n",
       "\n",
       "  /**\n",
       "   * Handle when an output is cleared or removed\n",
       "   */\n",
       "  function handleClearOutput(event, handle) {\n",
       "    var cell = handle.cell;\n",
       "\n",
       "    var id = cell.output_area._bokeh_element_id;\n",
       "    var server_id = cell.output_area._bokeh_server_id;\n",
       "    // Clean up Bokeh references\n",
       "    if (id !== undefined) {\n",
       "      Bokeh.index[id].model.document.clear();\n",
       "      delete Bokeh.index[id];\n",
       "    }\n",
       "\n",
       "    if (server_id !== undefined) {\n",
       "      // Clean up Bokeh references\n",
       "      var cmd = \"from bokeh.io.state import curstate; print(curstate().uuid_to_server['\" + server_id + \"'].get_sessions()[0].document.roots[0]._id)\";\n",
       "      cell.notebook.kernel.execute(cmd, {\n",
       "        iopub: {\n",
       "          output: function(msg) {\n",
       "            var element_id = msg.content.text.trim();\n",
       "            Bokeh.index[element_id].model.document.clear();\n",
       "            delete Bokeh.index[element_id];\n",
       "          }\n",
       "        }\n",
       "      });\n",
       "      // Destroy server and session\n",
       "      var cmd = \"import bokeh.io.notebook as ion; ion.destroy_server('\" + server_id + \"')\";\n",
       "      cell.notebook.kernel.execute(cmd);\n",
       "    }\n",
       "  }\n",
       "\n",
       "  /**\n",
       "   * Handle when a new output is added\n",
       "   */\n",
       "  function handleAddOutput(event, handle) {\n",
       "    var output_area = handle.output_area;\n",
       "    var output = handle.output;\n",
       "\n",
       "    // limit handleAddOutput to display_data with EXEC_MIME_TYPE content only\n",
       "    if ((output.output_type != \"display_data\") || (!output.data.hasOwnProperty(EXEC_MIME_TYPE))) {\n",
       "      return\n",
       "    }\n",
       "\n",
       "    var toinsert = output_area.element.find(\".\" + CLASS_NAME.split(' ')[0]);\n",
       "\n",
       "    if (output.metadata[EXEC_MIME_TYPE][\"id\"] !== undefined) {\n",
       "      toinsert[0].firstChild.textContent = output.data[JS_MIME_TYPE];\n",
       "      // store reference to embed id on output_area\n",
       "      output_area._bokeh_element_id = output.metadata[EXEC_MIME_TYPE][\"id\"];\n",
       "    }\n",
       "    if (output.metadata[EXEC_MIME_TYPE][\"server_id\"] !== undefined) {\n",
       "      var bk_div = document.createElement(\"div\");\n",
       "      bk_div.innerHTML = output.data[HTML_MIME_TYPE];\n",
       "      var script_attrs = bk_div.children[0].attributes;\n",
       "      for (var i = 0; i < script_attrs.length; i++) {\n",
       "        toinsert[0].firstChild.setAttribute(script_attrs[i].name, script_attrs[i].value);\n",
       "      }\n",
       "      // store reference to server id on output_area\n",
       "      output_area._bokeh_server_id = output.metadata[EXEC_MIME_TYPE][\"server_id\"];\n",
       "    }\n",
       "  }\n",
       "\n",
       "  function register_renderer(events, OutputArea) {\n",
       "\n",
       "    function append_mime(data, metadata, element) {\n",
       "      // create a DOM node to render to\n",
       "      var toinsert = this.create_output_subarea(\n",
       "        metadata,\n",
       "        CLASS_NAME,\n",
       "        EXEC_MIME_TYPE\n",
       "      );\n",
       "      this.keyboard_manager.register_events(toinsert);\n",
       "      // Render to node\n",
       "      var props = {data: data, metadata: metadata[EXEC_MIME_TYPE]};\n",
       "      render(props, toinsert[0]);\n",
       "      element.append(toinsert);\n",
       "      return toinsert\n",
       "    }\n",
       "\n",
       "    /* Handle when an output is cleared or removed */\n",
       "    events.on('clear_output.CodeCell', handleClearOutput);\n",
       "    events.on('delete.Cell', handleClearOutput);\n",
       "\n",
       "    /* Handle when a new output is added */\n",
       "    events.on('output_added.OutputArea', handleAddOutput);\n",
       "\n",
       "    /**\n",
       "     * Register the mime type and append_mime function with output_area\n",
       "     */\n",
       "    OutputArea.prototype.register_mime_type(EXEC_MIME_TYPE, append_mime, {\n",
       "      /* Is output safe? */\n",
       "      safe: true,\n",
       "      /* Index of renderer in `output_area.display_order` */\n",
       "      index: 0\n",
       "    });\n",
       "  }\n",
       "\n",
       "  // register the mime type if in Jupyter Notebook environment and previously unregistered\n",
       "  if (root.Jupyter !== undefined) {\n",
       "    var events = require('base/js/events');\n",
       "    var OutputArea = require('notebook/js/outputarea').OutputArea;\n",
       "\n",
       "    if (OutputArea.prototype.mime_types().indexOf(EXEC_MIME_TYPE) == -1) {\n",
       "      register_renderer(events, OutputArea);\n",
       "    }\n",
       "  }\n",
       "\n",
       "  \n",
       "  if (typeof (root._bokeh_timeout) === \"undefined\" || force === true) {\n",
       "    root._bokeh_timeout = Date.now() + 5000;\n",
       "    root._bokeh_failed_load = false;\n",
       "  }\n",
       "\n",
       "  var NB_LOAD_WARNING = {'data': {'text/html':\n",
       "     \"<div style='background-color: #fdd'>\\n\"+\n",
       "     \"<p>\\n\"+\n",
       "     \"BokehJS does not appear to have successfully loaded. If loading BokehJS from CDN, this \\n\"+\n",
       "     \"may be due to a slow or bad network connection. Possible fixes:\\n\"+\n",
       "     \"</p>\\n\"+\n",
       "     \"<ul>\\n\"+\n",
       "     \"<li>re-rerun `output_notebook()` to attempt to load from CDN again, or</li>\\n\"+\n",
       "     \"<li>use INLINE resources instead, as so:</li>\\n\"+\n",
       "     \"</ul>\\n\"+\n",
       "     \"<code>\\n\"+\n",
       "     \"from bokeh.resources import INLINE\\n\"+\n",
       "     \"output_notebook(resources=INLINE)\\n\"+\n",
       "     \"</code>\\n\"+\n",
       "     \"</div>\"}};\n",
       "\n",
       "  function display_loaded() {\n",
       "    var el = document.getElementById(\"575a2ba0-781c-4522-97ad-85d567397480\");\n",
       "    if (el != null) {\n",
       "      el.textContent = \"BokehJS is loading...\";\n",
       "    }\n",
       "    if (root.Bokeh !== undefined) {\n",
       "      if (el != null) {\n",
       "        el.textContent = \"BokehJS \" + root.Bokeh.version + \" successfully loaded.\";\n",
       "      }\n",
       "    } else if (Date.now() < root._bokeh_timeout) {\n",
       "      setTimeout(display_loaded, 100)\n",
       "    }\n",
       "  }\n",
       "\n",
       "\n",
       "  function run_callbacks() {\n",
       "    try {\n",
       "      root._bokeh_onload_callbacks.forEach(function(callback) { callback() });\n",
       "    }\n",
       "    finally {\n",
       "      delete root._bokeh_onload_callbacks\n",
       "    }\n",
       "    console.info(\"Bokeh: all callbacks have finished\");\n",
       "  }\n",
       "\n",
       "  function load_libs(js_urls, callback) {\n",
       "    root._bokeh_onload_callbacks.push(callback);\n",
       "    if (root._bokeh_is_loading > 0) {\n",
       "      console.log(\"Bokeh: BokehJS is being loaded, scheduling callback at\", now());\n",
       "      return null;\n",
       "    }\n",
       "    if (js_urls == null || js_urls.length === 0) {\n",
       "      run_callbacks();\n",
       "      return null;\n",
       "    }\n",
       "    console.log(\"Bokeh: BokehJS not loaded, scheduling load and callback at\", now());\n",
       "    root._bokeh_is_loading = js_urls.length;\n",
       "    for (var i = 0; i < js_urls.length; i++) {\n",
       "      var url = js_urls[i];\n",
       "      var s = document.createElement('script');\n",
       "      s.src = url;\n",
       "      s.async = false;\n",
       "      s.onreadystatechange = s.onload = function() {\n",
       "        root._bokeh_is_loading--;\n",
       "        if (root._bokeh_is_loading === 0) {\n",
       "          console.log(\"Bokeh: all BokehJS libraries loaded\");\n",
       "          run_callbacks()\n",
       "        }\n",
       "      };\n",
       "      s.onerror = function() {\n",
       "        console.warn(\"failed to load library \" + url);\n",
       "      };\n",
       "      console.log(\"Bokeh: injecting script tag for BokehJS library: \", url);\n",
       "      document.getElementsByTagName(\"head\")[0].appendChild(s);\n",
       "    }\n",
       "  };var element = document.getElementById(\"575a2ba0-781c-4522-97ad-85d567397480\");\n",
       "  if (element == null) {\n",
       "    console.log(\"Bokeh: ERROR: autoload.js configured with elementid '575a2ba0-781c-4522-97ad-85d567397480' but no matching script tag was found. \")\n",
       "    return false;\n",
       "  }\n",
       "\n",
       "  var js_urls = [\"https://cdn.pydata.org/bokeh/release/bokeh-0.12.13.min.js\", \"https://cdn.pydata.org/bokeh/release/bokeh-widgets-0.12.13.min.js\", \"https://cdn.pydata.org/bokeh/release/bokeh-tables-0.12.13.min.js\", \"https://cdn.pydata.org/bokeh/release/bokeh-gl-0.12.13.min.js\"];\n",
       "\n",
       "  var inline_js = [\n",
       "    function(Bokeh) {\n",
       "      Bokeh.set_log_level(\"info\");\n",
       "    },\n",
       "    \n",
       "    function(Bokeh) {\n",
       "      \n",
       "    },\n",
       "    function(Bokeh) {\n",
       "      console.log(\"Bokeh: injecting CSS: https://cdn.pydata.org/bokeh/release/bokeh-0.12.13.min.css\");\n",
       "      Bokeh.embed.inject_css(\"https://cdn.pydata.org/bokeh/release/bokeh-0.12.13.min.css\");\n",
       "      console.log(\"Bokeh: injecting CSS: https://cdn.pydata.org/bokeh/release/bokeh-widgets-0.12.13.min.css\");\n",
       "      Bokeh.embed.inject_css(\"https://cdn.pydata.org/bokeh/release/bokeh-widgets-0.12.13.min.css\");\n",
       "      console.log(\"Bokeh: injecting CSS: https://cdn.pydata.org/bokeh/release/bokeh-tables-0.12.13.min.css\");\n",
       "      Bokeh.embed.inject_css(\"https://cdn.pydata.org/bokeh/release/bokeh-tables-0.12.13.min.css\");\n",
       "    }\n",
       "  ];\n",
       "\n",
       "  function run_inline_js() {\n",
       "    \n",
       "    if ((root.Bokeh !== undefined) || (force === true)) {\n",
       "      for (var i = 0; i < inline_js.length; i++) {\n",
       "        inline_js[i].call(root, root.Bokeh);\n",
       "      }if (force === true) {\n",
       "        display_loaded();\n",
       "      }} else if (Date.now() < root._bokeh_timeout) {\n",
       "      setTimeout(run_inline_js, 100);\n",
       "    } else if (!root._bokeh_failed_load) {\n",
       "      console.log(\"Bokeh: BokehJS failed to load within specified timeout.\");\n",
       "      root._bokeh_failed_load = true;\n",
       "    } else if (force !== true) {\n",
       "      var cell = $(document.getElementById(\"575a2ba0-781c-4522-97ad-85d567397480\")).parents('.cell').data().cell;\n",
       "      cell.output_area.append_execute_result(NB_LOAD_WARNING)\n",
       "    }\n",
       "\n",
       "  }\n",
       "\n",
       "  if (root._bokeh_is_loading === 0) {\n",
       "    console.log(\"Bokeh: BokehJS loaded, going straight to plotting\");\n",
       "    run_inline_js();\n",
       "  } else {\n",
       "    load_libs(js_urls, function() {\n",
       "      console.log(\"Bokeh: BokehJS plotting callback run at\", now());\n",
       "      run_inline_js();\n",
       "    });\n",
       "  }\n",
       "}(window));"
      ],
      "application/vnd.bokehjs_load.v0+json": "\n(function(root) {\n  function now() {\n    return new Date();\n  }\n\n  var force = true;\n\n  if (typeof (root._bokeh_onload_callbacks) === \"undefined\" || force === true) {\n    root._bokeh_onload_callbacks = [];\n    root._bokeh_is_loading = undefined;\n  }\n\n  \n\n  \n  if (typeof (root._bokeh_timeout) === \"undefined\" || force === true) {\n    root._bokeh_timeout = Date.now() + 5000;\n    root._bokeh_failed_load = false;\n  }\n\n  var NB_LOAD_WARNING = {'data': {'text/html':\n     \"<div style='background-color: #fdd'>\\n\"+\n     \"<p>\\n\"+\n     \"BokehJS does not appear to have successfully loaded. If loading BokehJS from CDN, this \\n\"+\n     \"may be due to a slow or bad network connection. Possible fixes:\\n\"+\n     \"</p>\\n\"+\n     \"<ul>\\n\"+\n     \"<li>re-rerun `output_notebook()` to attempt to load from CDN again, or</li>\\n\"+\n     \"<li>use INLINE resources instead, as so:</li>\\n\"+\n     \"</ul>\\n\"+\n     \"<code>\\n\"+\n     \"from bokeh.resources import INLINE\\n\"+\n     \"output_notebook(resources=INLINE)\\n\"+\n     \"</code>\\n\"+\n     \"</div>\"}};\n\n  function display_loaded() {\n    var el = document.getElementById(\"575a2ba0-781c-4522-97ad-85d567397480\");\n    if (el != null) {\n      el.textContent = \"BokehJS is loading...\";\n    }\n    if (root.Bokeh !== undefined) {\n      if (el != null) {\n        el.textContent = \"BokehJS \" + root.Bokeh.version + \" successfully loaded.\";\n      }\n    } else if (Date.now() < root._bokeh_timeout) {\n      setTimeout(display_loaded, 100)\n    }\n  }\n\n\n  function run_callbacks() {\n    try {\n      root._bokeh_onload_callbacks.forEach(function(callback) { callback() });\n    }\n    finally {\n      delete root._bokeh_onload_callbacks\n    }\n    console.info(\"Bokeh: all callbacks have finished\");\n  }\n\n  function load_libs(js_urls, callback) {\n    root._bokeh_onload_callbacks.push(callback);\n    if (root._bokeh_is_loading > 0) {\n      console.log(\"Bokeh: BokehJS is being loaded, scheduling callback at\", now());\n      return null;\n    }\n    if (js_urls == null || js_urls.length === 0) {\n      run_callbacks();\n      return null;\n    }\n    console.log(\"Bokeh: BokehJS not loaded, scheduling load and callback at\", now());\n    root._bokeh_is_loading = js_urls.length;\n    for (var i = 0; i < js_urls.length; i++) {\n      var url = js_urls[i];\n      var s = document.createElement('script');\n      s.src = url;\n      s.async = false;\n      s.onreadystatechange = s.onload = function() {\n        root._bokeh_is_loading--;\n        if (root._bokeh_is_loading === 0) {\n          console.log(\"Bokeh: all BokehJS libraries loaded\");\n          run_callbacks()\n        }\n      };\n      s.onerror = function() {\n        console.warn(\"failed to load library \" + url);\n      };\n      console.log(\"Bokeh: injecting script tag for BokehJS library: \", url);\n      document.getElementsByTagName(\"head\")[0].appendChild(s);\n    }\n  };var element = document.getElementById(\"575a2ba0-781c-4522-97ad-85d567397480\");\n  if (element == null) {\n    console.log(\"Bokeh: ERROR: autoload.js configured with elementid '575a2ba0-781c-4522-97ad-85d567397480' but no matching script tag was found. \")\n    return false;\n  }\n\n  var js_urls = [\"https://cdn.pydata.org/bokeh/release/bokeh-0.12.13.min.js\", \"https://cdn.pydata.org/bokeh/release/bokeh-widgets-0.12.13.min.js\", \"https://cdn.pydata.org/bokeh/release/bokeh-tables-0.12.13.min.js\", \"https://cdn.pydata.org/bokeh/release/bokeh-gl-0.12.13.min.js\"];\n\n  var inline_js = [\n    function(Bokeh) {\n      Bokeh.set_log_level(\"info\");\n    },\n    \n    function(Bokeh) {\n      \n    },\n    function(Bokeh) {\n      console.log(\"Bokeh: injecting CSS: https://cdn.pydata.org/bokeh/release/bokeh-0.12.13.min.css\");\n      Bokeh.embed.inject_css(\"https://cdn.pydata.org/bokeh/release/bokeh-0.12.13.min.css\");\n      console.log(\"Bokeh: injecting CSS: https://cdn.pydata.org/bokeh/release/bokeh-widgets-0.12.13.min.css\");\n      Bokeh.embed.inject_css(\"https://cdn.pydata.org/bokeh/release/bokeh-widgets-0.12.13.min.css\");\n      console.log(\"Bokeh: injecting CSS: https://cdn.pydata.org/bokeh/release/bokeh-tables-0.12.13.min.css\");\n      Bokeh.embed.inject_css(\"https://cdn.pydata.org/bokeh/release/bokeh-tables-0.12.13.min.css\");\n    }\n  ];\n\n  function run_inline_js() {\n    \n    if ((root.Bokeh !== undefined) || (force === true)) {\n      for (var i = 0; i < inline_js.length; i++) {\n        inline_js[i].call(root, root.Bokeh);\n      }if (force === true) {\n        display_loaded();\n      }} else if (Date.now() < root._bokeh_timeout) {\n      setTimeout(run_inline_js, 100);\n    } else if (!root._bokeh_failed_load) {\n      console.log(\"Bokeh: BokehJS failed to load within specified timeout.\");\n      root._bokeh_failed_load = true;\n    } else if (force !== true) {\n      var cell = $(document.getElementById(\"575a2ba0-781c-4522-97ad-85d567397480\")).parents('.cell').data().cell;\n      cell.output_area.append_execute_result(NB_LOAD_WARNING)\n    }\n\n  }\n\n  if (root._bokeh_is_loading === 0) {\n    console.log(\"Bokeh: BokehJS loaded, going straight to plotting\");\n    run_inline_js();\n  } else {\n    load_libs(js_urls, function() {\n      console.log(\"Bokeh: BokehJS plotting callback run at\", now());\n      run_inline_js();\n    });\n  }\n}(window));"
     },
     "metadata": {},
     "output_type": "display_data"
    }
   ],
   "source": [
    "# Standard python helper libraries.\n",
    "from __future__ import print_function\n",
    "from __future__ import division\n",
    "import os, sys, time\n",
    "import collections\n",
    "import itertools\n",
    "\n",
    "# Numerical manipulation libraries.\n",
    "import numpy as np\n",
    "from scipy import stats, optimize\n",
    "\n",
    "# NLTK is the Natural Language Toolkit, and contains several language datasets\n",
    "# as well as implementations of many popular NLP algorithms.\n",
    "# HINT: You should look at what is available here when thinking about your project!\n",
    "import nltk\n",
    "\n",
    "# Helper libraries (see the corresponding py files in this notebook's directory).\n",
    "from common import utils, vocabulary\n",
    "import segment\n",
    "\n",
    "utils.require_package(\"tqdm\")  # for nice progress bars\n",
    "from tqdm import tqdm as ProgressBar\n",
    "\n",
    "# Bokeh for plotting.\n",
    "utils.require_package(\"bokeh\")\n",
    "import bokeh.plotting as bp\n",
    "from bokeh.models import HoverTool\n",
    "bp.output_notebook()"
   ]
  },
  {
   "cell_type": "markdown",
   "metadata": {},
   "source": [
    "## Corpus Statistics\n",
    "\n",
    "NLTK includes a number of corpora that we can experiment with for this exercise. Different types of text can have very different N-gram distributions, and some are more difficult to model than others.\n",
    "\n",
    "Let's start with the [Brown corpus](http://www.essex.ac.uk/linguistics/external/clmt/w3c/corpus_ling/content/corpora/list/private/brown/brown.html), the first major computer-readable linguistic corpus. It consists of around 1 million words of American English, sampled from 15 different text categories ranging from news text to academic articles to popular fiction.\n",
    "\n",
    "If you haven't yet run `nltk.download()`, the cell below will download the Brown corpus for you."
   ]
  },
  {
   "cell_type": "code",
   "execution_count": 2,
   "metadata": {},
   "outputs": [
    {
     "name": "stdout",
     "output_type": "stream",
     "text": [
      "[nltk_data] Downloading package brown to /Users/alicelam/nltk_data...\n",
      "[nltk_data]   Package brown is already up-to-date!\n"
     ]
    },
    {
     "data": {
      "text/plain": [
       "True"
      ]
     },
     "execution_count": 2,
     "metadata": {},
     "output_type": "execute_result"
    }
   ],
   "source": [
    "nltk.download('brown')"
   ]
  },
  {
   "cell_type": "markdown",
   "metadata": {},
   "source": [
    "Let's start by looking at the all the words in the corpus, and looking at some basic statistics.\n",
    "\n",
    "We've built a helper class, `Vocabulary`, that ingests a list of words, counts their frequencies, and assigns each one a numerical ID that will be useful later on."
   ]
  },
  {
   "cell_type": "code",
   "execution_count": 3,
   "metadata": {},
   "outputs": [
    {
     "name": "stderr",
     "output_type": "stream",
     "text": [
      "1161192it [00:10, 115596.11it/s]\n"
     ]
    },
    {
     "name": "stdout",
     "output_type": "stream",
     "text": [
      "Vocabulary size: 48,174\n",
      "Most common unigrams:\n",
      "\"the\": 69,971\n",
      "\",\": 58,334\n",
      "\".\": 49,346\n",
      "\"of\": 36,412\n",
      "\"and\": 28,853\n",
      "\"to\": 26,158\n",
      "\"a\": 23,195\n",
      "\"in\": 21,337\n",
      "\"that\": 10,594\n",
      "\"is\": 10,109\n"
     ]
    }
   ],
   "source": [
    "corpus = nltk.corpus.brown\n",
    "\n",
    "# \"canonicalize_word\" performs a few tweaks to the token stream of\n",
    "# the corpus.  For example, it replaces digits with DG allowing numbers\n",
    "# to aggregate together when we count them below.\n",
    "# You can read the details in utils.py if you're really curious.\n",
    "token_feed = (utils.canonicalize_word(w) for w in corpus.words())\n",
    "\n",
    "# Collect counts of tokens and assign wordids.\n",
    "vocab = vocabulary.Vocabulary(token_feed, progressbar=ProgressBar)\n",
    "print(\"Vocabulary size: {:,}\".format(vocab.size))\n",
    "\n",
    "# Print out some (debugging) statistics to make sure everything went\n",
    "# as we expected.  (Unsurprisingly, you should see \"the\" as the most popular word.)\n",
    "print(\"Most common unigrams:\")\n",
    "for word, count in vocab.unigram_counts.most_common(10):\n",
    "    print(\"\\\"{:s}\\\": {:,}\".format(word, count))"
   ]
  },
  {
   "cell_type": "markdown",
   "metadata": {},
   "source": [
    "`Vocabulary.unigram_counts` is a dictionary (actually, `collections.Counter`) of the unigram frequencies $c(w)$. Let's look at a plot of the top frequencies:"
   ]
  },
  {
   "cell_type": "code",
   "execution_count": 21,
   "metadata": {},
   "outputs": [
    {
     "data": {
      "text/html": [
       "\n",
       "<div class=\"bk-root\">\n",
       "    <div class=\"bk-plotdiv\" id=\"8f1ad05a-337c-44de-9cd2-b43ea561ce5f\"></div>\n",
       "</div>"
      ]
     },
     "metadata": {},
     "output_type": "display_data"
    },
    {
     "data": {
      "application/javascript": [
       "(function(root) {\n",
       "  function embed_document(root) {\n",
       "    \n",
       "  var docs_json = {\"b20a4201-6797-4d25-a100-d039de47c6b7\":{\"roots\":{\"references\":[{\"attributes\":{\"fill_color\":{\"value\":\"#1f77b4\"},\"line_color\":{\"value\":\"#1f77b4\"},\"top\":{\"field\":\"top\"},\"width\":{\"value\":0.8},\"x\":{\"field\":\"x\"}},\"id\":\"85f9e00e-21d4-4fe1-91a7-7f8b06146da3\",\"type\":\"VBar\"},{\"attributes\":{\"axis_label\":\"Count(w)\",\"formatter\":{\"id\":\"1697f21c-ec3e-4e0d-a202-a657a94217df\",\"type\":\"BasicTickFormatter\"},\"plot\":{\"id\":\"b00a6045-cf43-44be-86cb-f938b8374816\",\"subtype\":\"Figure\",\"type\":\"Plot\"},\"ticker\":{\"id\":\"f1d20201-8280-495a-8aa0-7faa3b74b50f\",\"type\":\"BasicTicker\"}},\"id\":\"36478bac-d619-4c6c-8c49-18a4251b8be4\",\"type\":\"LinearAxis\"},{\"attributes\":{\"formatter\":{\"id\":\"18b497d7-d4e3-487e-a4f2-30abd961ebff\",\"type\":\"CategoricalTickFormatter\"},\"plot\":{\"id\":\"b00a6045-cf43-44be-86cb-f938b8374816\",\"subtype\":\"Figure\",\"type\":\"Plot\"},\"ticker\":{\"id\":\"1159f3b5-cece-4cf6-9e49-8c1c5648498b\",\"type\":\"CategoricalTicker\"}},\"id\":\"9bf63aec-7656-434b-af82-48411853fd33\",\"type\":\"CategoricalAxis\"},{\"attributes\":{\"callback\":null,\"mode\":\"vline\",\"tooltips\":[[\"word\",\"@x\"],[\"count\",\"@top\"]]},\"id\":\"38d896a6-0b43-478d-ac92-e817f74c9c2b\",\"type\":\"HoverTool\"},{\"attributes\":{\"active_drag\":\"auto\",\"active_inspect\":\"auto\",\"active_scroll\":\"auto\",\"active_tap\":\"auto\",\"tools\":[{\"id\":\"38d896a6-0b43-478d-ac92-e817f74c9c2b\",\"type\":\"HoverTool\"}]},\"id\":\"51762c55-51f6-4ebe-b42c-4d4b878a25bd\",\"type\":\"Toolbar\"},{\"attributes\":{\"callback\":null,\"factors\":[\"the\",\",\",\".\",\"of\",\"and\",\"to\",\"a\",\"in\",\"that\",\"is\",\"was\",\"he\",\"for\",\"``\",\"''\",\"it\",\"with\",\"as\",\"his\",\"on\"]},\"id\":\"47772502-32ff-4a7d-8c47-c977d6ac09b3\",\"type\":\"FactorRange\"},{\"attributes\":{\"fill_color\":{\"value\":\"firebrick\"},\"line_color\":{\"value\":\"#1f77b4\"},\"top\":{\"field\":\"top\"},\"width\":{\"value\":0.8},\"x\":{\"field\":\"x\"}},\"id\":\"6529ed81-127a-49c1-9c38-b11f54dc9470\",\"type\":\"VBar\"},{\"attributes\":{\"below\":[{\"id\":\"9bf63aec-7656-434b-af82-48411853fd33\",\"type\":\"CategoricalAxis\"}],\"left\":[{\"id\":\"36478bac-d619-4c6c-8c49-18a4251b8be4\",\"type\":\"LinearAxis\"}],\"plot_height\":400,\"plot_width\":800,\"renderers\":[{\"id\":\"9bf63aec-7656-434b-af82-48411853fd33\",\"type\":\"CategoricalAxis\"},{\"id\":\"70d81b84-94e6-4570-b062-dae767270c07\",\"type\":\"Grid\"},{\"id\":\"36478bac-d619-4c6c-8c49-18a4251b8be4\",\"type\":\"LinearAxis\"},{\"id\":\"fbc43e67-0571-4e9c-9365-6bf2bc071422\",\"type\":\"Grid\"},{\"id\":\"1bd49472-a486-4919-8968-84bfef884361\",\"type\":\"GlyphRenderer\"}],\"title\":{\"id\":\"aa7c95ce-e0b5-4f3f-9534-96244db46d2f\",\"type\":\"Title\"},\"toolbar\":{\"id\":\"51762c55-51f6-4ebe-b42c-4d4b878a25bd\",\"type\":\"Toolbar\"},\"x_range\":{\"id\":\"47772502-32ff-4a7d-8c47-c977d6ac09b3\",\"type\":\"FactorRange\"},\"x_scale\":{\"id\":\"10cc88a7-7ad9-415c-9975-27b5ebfbbfc8\",\"type\":\"CategoricalScale\"},\"y_range\":{\"id\":\"b2814659-106f-44c4-bb92-6db3d50e2259\",\"type\":\"DataRange1d\"},\"y_scale\":{\"id\":\"4f1ff1ed-853f-467e-b17a-21c0007f73b8\",\"type\":\"LinearScale\"}},\"id\":\"b00a6045-cf43-44be-86cb-f938b8374816\",\"subtype\":\"Figure\",\"type\":\"Plot\"},{\"attributes\":{},\"id\":\"10cc88a7-7ad9-415c-9975-27b5ebfbbfc8\",\"type\":\"CategoricalScale\"},{\"attributes\":{},\"id\":\"18b497d7-d4e3-487e-a4f2-30abd961ebff\",\"type\":\"CategoricalTickFormatter\"},{\"attributes\":{\"plot\":null,\"text\":\"\"},\"id\":\"aa7c95ce-e0b5-4f3f-9534-96244db46d2f\",\"type\":\"Title\"},{\"attributes\":{\"callback\":null,\"column_names\":[\"x\",\"top\"],\"data\":{\"top\":[69971,58334,49346,36412,28853,26158,23195,21337,10594,10109,9815,9548,9489,8837,8789,8760,7289,7253,6996,6741],\"x\":[\"the\",\",\",\".\",\"of\",\"and\",\"to\",\"a\",\"in\",\"that\",\"is\",\"was\",\"he\",\"for\",\"``\",\"''\",\"it\",\"with\",\"as\",\"his\",\"on\"]}},\"id\":\"bcf3ca4e-5bfd-479c-9e18-08a989e8e7d0\",\"type\":\"ColumnDataSource\"},{\"attributes\":{},\"id\":\"1159f3b5-cece-4cf6-9e49-8c1c5648498b\",\"type\":\"CategoricalTicker\"},{\"attributes\":{\"callback\":null,\"start\":0},\"id\":\"b2814659-106f-44c4-bb92-6db3d50e2259\",\"type\":\"DataRange1d\"},{\"attributes\":{\"plot\":{\"id\":\"b00a6045-cf43-44be-86cb-f938b8374816\",\"subtype\":\"Figure\",\"type\":\"Plot\"},\"ticker\":{\"id\":\"1159f3b5-cece-4cf6-9e49-8c1c5648498b\",\"type\":\"CategoricalTicker\"}},\"id\":\"70d81b84-94e6-4570-b062-dae767270c07\",\"type\":\"Grid\"},{\"attributes\":{},\"id\":\"f1d20201-8280-495a-8aa0-7faa3b74b50f\",\"type\":\"BasicTicker\"},{\"attributes\":{},\"id\":\"1697f21c-ec3e-4e0d-a202-a657a94217df\",\"type\":\"BasicTickFormatter\"},{\"attributes\":{},\"id\":\"4f1ff1ed-853f-467e-b17a-21c0007f73b8\",\"type\":\"LinearScale\"},{\"attributes\":{\"source\":{\"id\":\"bcf3ca4e-5bfd-479c-9e18-08a989e8e7d0\",\"type\":\"ColumnDataSource\"}},\"id\":\"6d196c0f-a31d-4d06-9b37-ef00268dde50\",\"type\":\"CDSView\"},{\"attributes\":{\"data_source\":{\"id\":\"bcf3ca4e-5bfd-479c-9e18-08a989e8e7d0\",\"type\":\"ColumnDataSource\"},\"glyph\":{\"id\":\"85f9e00e-21d4-4fe1-91a7-7f8b06146da3\",\"type\":\"VBar\"},\"hover_glyph\":{\"id\":\"6529ed81-127a-49c1-9c38-b11f54dc9470\",\"type\":\"VBar\"},\"muted_glyph\":null,\"nonselection_glyph\":{\"id\":\"a57d04cf-3a3d-4f40-bbd1-ff67aa64b230\",\"type\":\"VBar\"},\"selection_glyph\":null,\"view\":{\"id\":\"6d196c0f-a31d-4d06-9b37-ef00268dde50\",\"type\":\"CDSView\"}},\"id\":\"1bd49472-a486-4919-8968-84bfef884361\",\"type\":\"GlyphRenderer\"},{\"attributes\":{\"fill_alpha\":{\"value\":0.1},\"fill_color\":{\"value\":\"#1f77b4\"},\"line_alpha\":{\"value\":0.1},\"line_color\":{\"value\":\"#1f77b4\"},\"top\":{\"field\":\"top\"},\"width\":{\"value\":0.8},\"x\":{\"field\":\"x\"}},\"id\":\"a57d04cf-3a3d-4f40-bbd1-ff67aa64b230\",\"type\":\"VBar\"},{\"attributes\":{\"dimension\":1,\"plot\":{\"id\":\"b00a6045-cf43-44be-86cb-f938b8374816\",\"subtype\":\"Figure\",\"type\":\"Plot\"},\"ticker\":{\"id\":\"f1d20201-8280-495a-8aa0-7faa3b74b50f\",\"type\":\"BasicTicker\"}},\"id\":\"fbc43e67-0571-4e9c-9365-6bf2bc071422\",\"type\":\"Grid\"}],\"root_ids\":[\"b00a6045-cf43-44be-86cb-f938b8374816\"]},\"title\":\"Bokeh Application\",\"version\":\"0.12.13\"}};\n",
       "  var render_items = [{\"docid\":\"b20a4201-6797-4d25-a100-d039de47c6b7\",\"elementid\":\"8f1ad05a-337c-44de-9cd2-b43ea561ce5f\",\"modelid\":\"b00a6045-cf43-44be-86cb-f938b8374816\"}];\n",
       "  root.Bokeh.embed.embed_items_notebook(docs_json, render_items);\n",
       "\n",
       "  }\n",
       "  if (root.Bokeh !== undefined) {\n",
       "    embed_document(root);\n",
       "  } else {\n",
       "    var attempts = 0;\n",
       "    var timer = setInterval(function(root) {\n",
       "      if (root.Bokeh !== undefined) {\n",
       "        embed_document(root);\n",
       "        clearInterval(timer);\n",
       "      }\n",
       "      attempts++;\n",
       "      if (attempts > 100) {\n",
       "        console.log(\"Bokeh: ERROR: Unable to run BokehJS code because BokehJS library is missing\")\n",
       "        clearInterval(timer);\n",
       "      }\n",
       "    }, 10, root)\n",
       "  }\n",
       "})(window);"
      ],
      "application/vnd.bokehjs_exec.v0+json": ""
     },
     "metadata": {
      "application/vnd.bokehjs_exec.v0+json": {
       "id": "b00a6045-cf43-44be-86cb-f938b8374816"
      }
     },
     "output_type": "display_data"
    }
   ],
   "source": [
    "words, counts = zip(*vocab.unigram_counts.most_common(20))\n",
    "\n",
    "hover = HoverTool(tooltips=[(\"word\", \"@x\"), (\"count\", \"@top\")], mode=\"vline\")\n",
    "fig = bp.figure(x_range=words, plot_width=800, plot_height=400, tools=[hover])\n",
    "fig.vbar(x=words, width=0.8, top=counts, hover_fill_color=\"firebrick\")\n",
    "fig.y_range.start = 0\n",
    "fig.yaxis.axis_label = \"Count(w)\"\n",
    "bp.show(fig)"
   ]
  },
  {
   "cell_type": "markdown",
   "metadata": {},
   "source": [
    "You'll notice that it falls off very quickly! It also flattens out a lot after the initial dip.  Recall that word frequencies tend to follow **Zipf's law**, in that they are rougly proportional to $\\frac{1}{\\mathrm{rank}(w)}$, where rank = 1 for the most common word, 2 for the second-most, etc. We can test this directly with a numerical fit:"
   ]
  },
  {
   "cell_type": "code",
   "execution_count": 22,
   "metadata": {},
   "outputs": [
    {
     "name": "stdout",
     "output_type": "stream",
     "text": [
      "Power law exponent: β = -1.32\n"
     ]
    },
    {
     "name": "stderr",
     "output_type": "stream",
     "text": [
      "/Users/alicelam/anaconda2/envs/tensorflow/lib/python3.6/site-packages/ipykernel_launcher.py:14: RuntimeWarning: invalid value encountered in log\n",
      "  \n"
     ]
    },
    {
     "data": {
      "text/html": [
       "\n",
       "<div class=\"bk-root\">\n",
       "    <div class=\"bk-plotdiv\" id=\"5875dbfc-167a-4f5e-acfa-43768910cf1b\"></div>\n",
       "</div>"
      ]
     },
     "metadata": {},
     "output_type": "display_data"
    },
    {
     "data": {
      "application/javascript": [
       "(function(root) {\n",
       "  function embed_document(root) {\n",
       "    \n",
       "  var docs_json = {\"ed2d15e4-b80c-4dbf-a925-6b1c00127497\":{\"roots\":{\"references\":[{\"attributes\":{},\"id\":\"55f03f16-ac97-4dfd-958d-372b8693347a\",\"type\":\"LinearScale\"},{\"attributes\":{\"fill_alpha\":{\"value\":0.1},\"fill_color\":{\"value\":\"#1f77b4\"},\"line_alpha\":{\"value\":0.1},\"line_color\":{\"value\":\"#1f77b4\"},\"top\":{\"field\":\"top\"},\"width\":{\"value\":0.8},\"x\":{\"field\":\"x\"}},\"id\":\"2af37b36-b7cd-4d16-8e8e-62578408428d\",\"type\":\"VBar\"},{\"attributes\":{\"grid_line_alpha\":{\"value\":0.5},\"plot\":{\"id\":\"144266a9-3695-4c2c-847d-85819eb11960\",\"subtype\":\"Figure\",\"type\":\"Plot\"},\"ticker\":{\"id\":\"3751cc4c-fdf4-4cbc-9ed8-44f8284d0c75\",\"type\":\"CategoricalTicker\"}},\"id\":\"977d9ed1-05b4-4029-ba0e-eb277946e91c\",\"type\":\"Grid\"},{\"attributes\":{\"data_source\":{\"id\":\"43805d01-381b-450a-a38e-54dad5a497b8\",\"type\":\"ColumnDataSource\"},\"glyph\":{\"id\":\"c7c1870c-77cd-4ef6-a578-470ee478f488\",\"type\":\"Line\"},\"hover_glyph\":null,\"muted_glyph\":null,\"nonselection_glyph\":{\"id\":\"54736f55-b1da-4a97-b4ff-7487f9daf231\",\"type\":\"Line\"},\"selection_glyph\":null,\"view\":{\"id\":\"63e97739-2396-4e0b-b2fe-712dd648ff40\",\"type\":\"CDSView\"}},\"id\":\"8400d416-d64a-44c8-8e0e-d29cd4c556d5\",\"type\":\"GlyphRenderer\"},{\"attributes\":{\"source\":{\"id\":\"b7c5a2c7-82b9-4db0-945a-3761e1b3eab6\",\"type\":\"ColumnDataSource\"}},\"id\":\"416ac730-887f-45b0-b1fb-2c1a10a4c77c\",\"type\":\"CDSView\"},{\"attributes\":{\"callback\":null,\"column_names\":[\"x\",\"top\"],\"data\":{\"top\":{\"__ndarray__\":\"AAAAADAV8UAAAAAAwHvsQAAAAABAGOhAAAAAAIDH4UAAAAAAQC3cQAAAAACAi9lAAAAAAMCm1kAAAAAAQNbUQAAAAAAAscRAAAAAAIC+w0AAAAAAgCvDQAAAAAAApsJAAAAAAICIwkAAAAAAgELBQAAAAACAKsFAAAAAAAAcwUAAAAAAAHm8QAAAAAAAVbxAAAAAAABUu0AAAAAAAFW6QAAAAAAA6bhAAAAAAAC+tUAAAAAAAPy0QAAAAAAAurRAAAAAAAAstEAAAAAAABm0QAAAAAAADbRAAAAAAABVskAAAAAAAAKyQAAAAAAAKrFAAAAAAAAdsUAAAAAAABKxQAAAAAAAbrBAAAAAAADMrkAAAAAAADitQAAAAAAASKxAAAAAAADSq0AAAAAAANCqQAAAAAAAuKlAAAAAAACsqUAAAAAAAKipQAAAAAAAuKdAAAAAAAByp0AAAAAAAFimQAAAAAAAUKVAAAAAAAA0pUAAAAAAANqkQAAAAAAAuKRAAAAAAAB2pEAAAAAAAFCjQAAAAAAARKNAAAAAAAAKo0AAAAAAAAajQAAAAAAANqJAAAAAAACYoUAAAAAAAIqhQAAAAAAATqFAAAAAAAAsoUAAAAAAALagQAAAAAAAYqBAAAAAAABYn0AAAAAAAASfQAAAAAAApJ5AAAAAAAAgnkAAAAAAAOydQAAAAAAA0J1AAAAAAACInUAAAAAAAAidQAAAAAAAXJxAAAAAAAAMnEAAAAAAAPybQAAAAAAA+JtAAAAAAADwm0AAAAAAALCbQAAAAAAAUJtAAAAAAACYmkAAAAAAAIyZQAAAAAAASJlAAAAAAAAEmUAAAAAAAPiYQAAAAAAA8JhAAAAAAACUmEAAAAAAABCWQAAAAAAA6JVAAAAAAACQlUAAAAAAAEyVQAAAAAAARJVAAAAAAAAAlUAAAAAAAJiUQAAAAAAAiJRAAAAAAABclEAAAAAAADCUQAAAAAAAkJNAAAAAAABQk0AAAAAAANySQAAAAAAAdJJAAAAAAABIkkAAAAAAABySQAAAAAAAlJFAAAAAAAC0kEA=\",\"dtype\":\"float64\",\"shape\":[100]},\"x\":[\"the\",\",\",\".\",\"of\",\"and\",\"to\",\"a\",\"in\",\"that\",\"is\",\"was\",\"he\",\"for\",\"``\",\"''\",\"it\",\"with\",\"as\",\"his\",\"on\",\"be\",\";\",\"at\",\"by\",\"i\",\"this\",\"had\",\"?\",\"not\",\"are\",\"but\",\"from\",\"or\",\"have\",\"an\",\"they\",\"which\",\"--\",\"one\",\"you\",\"were\",\"her\",\"all\",\"she\",\"there\",\"would\",\"their\",\"we\",\"him\",\"been\",\")\",\"has\",\"(\",\"when\",\"who\",\"will\",\"more\",\"if\",\"no\",\"out\",\"DG\",\"so\",\"said\",\"DGDGDGDG\",\"DGDG\",\"what\",\"up\",\"its\",\"about\",\":\",\"into\",\"than\",\"them\",\"can\",\"only\",\"other\",\"new\",\"some\",\"could\",\"time\",\"!\",\"these\",\"two\",\"may\",\"then\",\"do\",\"first\",\"any\",\"my\",\"now\",\"such\",\"like\",\"our\",\"over\",\"man\",\"me\",\"even\",\"most\",\"made\",\"also\"]}},\"id\":\"b7c5a2c7-82b9-4db0-945a-3761e1b3eab6\",\"type\":\"ColumnDataSource\"},{\"attributes\":{},\"id\":\"ac6d1fbb-1714-4220-a5f0-b6cfed8dffc2\",\"type\":\"WheelZoomTool\"},{\"attributes\":{},\"id\":\"41c18d0a-fc01-4eb4-940b-1ed84a7e1594\",\"type\":\"PanTool\"},{\"attributes\":{\"fill_color\":{\"value\":\"#1f77b4\"},\"line_color\":{\"value\":\"#1f77b4\"},\"top\":{\"field\":\"top\"},\"width\":{\"value\":0.8},\"x\":{\"field\":\"x\"}},\"id\":\"3cd61e8a-b6b2-4641-811f-9f78354c2b5e\",\"type\":\"VBar\"},{\"attributes\":{},\"id\":\"5e5037f4-d157-402c-bc87-567eb44916a9\",\"type\":\"HelpTool\"},{\"attributes\":{\"fill_color\":{\"value\":\"firebrick\"},\"line_color\":{\"value\":\"#1f77b4\"},\"top\":{\"field\":\"top\"},\"width\":{\"value\":0.8},\"x\":{\"field\":\"x\"}},\"id\":\"e7c60cd8-6893-43f6-b6cf-581c97dc4bd2\",\"type\":\"VBar\"},{\"attributes\":{\"data_source\":{\"id\":\"b7c5a2c7-82b9-4db0-945a-3761e1b3eab6\",\"type\":\"ColumnDataSource\"},\"glyph\":{\"id\":\"3cd61e8a-b6b2-4641-811f-9f78354c2b5e\",\"type\":\"VBar\"},\"hover_glyph\":{\"id\":\"e7c60cd8-6893-43f6-b6cf-581c97dc4bd2\",\"type\":\"VBar\"},\"muted_glyph\":null,\"nonselection_glyph\":{\"id\":\"2af37b36-b7cd-4d16-8e8e-62578408428d\",\"type\":\"VBar\"},\"selection_glyph\":null,\"view\":{\"id\":\"416ac730-887f-45b0-b1fb-2c1a10a4c77c\",\"type\":\"CDSView\"}},\"id\":\"a01d508b-4e23-4c9a-9310-d0f8d106ce07\",\"type\":\"GlyphRenderer\"},{\"attributes\":{\"callback\":null,\"column_names\":[\"x\",\"y\"],\"data\":{\"x\":[\"the\",\",\",\".\",\"of\",\"and\",\"to\",\"a\",\"in\",\"that\",\"is\",\"was\",\"he\",\"for\",\"``\",\"''\",\"it\",\"with\",\"as\",\"his\",\"on\",\"be\",\";\",\"at\",\"by\",\"i\",\"this\",\"had\",\"?\",\"not\",\"are\",\"but\",\"from\",\"or\",\"have\",\"an\",\"they\",\"which\",\"--\",\"one\",\"you\",\"were\",\"her\",\"all\",\"she\",\"there\",\"would\",\"their\",\"we\",\"him\",\"been\",\")\",\"has\",\"(\",\"when\",\"who\",\"will\",\"more\",\"if\",\"no\",\"out\",\"DG\",\"so\",\"said\",\"DGDGDGDG\",\"DGDG\",\"what\",\"up\",\"its\",\"about\",\":\",\"into\",\"than\",\"them\",\"can\",\"only\",\"other\",\"new\",\"some\",\"could\",\"time\",\"!\",\"these\",\"two\",\"may\",\"then\",\"do\",\"first\",\"any\",\"my\",\"now\",\"such\",\"like\",\"our\",\"over\",\"man\",\"me\",\"even\",\"most\",\"made\",\"also\"],\"y\":{\"__ndarray__\":\"AAAAAPBuE0EAAAAAkDD/QAAAAAAQSPJAAAAAAGAH6UAAAAAAYKfiQAAAAABAV91AAAAAAMDy10AAAAAAwBXUQAAAAADAMtFAAAAAAADwzUAAAAAAAGjKQAAAAACAi8dAAAAAAIAwxUAAAAAAADjDQAAAAACAjMFAAAAAAAAewEAAAAAAAMO9QAAAAAAAmrtAAAAAAAC0uUAAAAAAAAa4QAAAAAAAh7ZAAAAAAAAxtUAAAAAAAPyzQAAAAAAA5bJAAAAAAADosUAAAAAAAAGxQAAAAAAALrBAAAAAAADYrkAAAAAAAHStQAAAAAAAKqxAAAAAAAD6qkAAAAAAAN6pQAAAAAAA2KhAAAAAAADip0AAAAAAAPymQAAAAAAAJqZAAAAAAABepUAAAAAAAKCkQAAAAAAA7qNAAAAAAABIo0AAAAAAAKqiQAAAAAAAFKJAAAAAAACGoUAAAAAAAAKhQAAAAAAAgqBAAAAAAAAKoEAAAAAAACyfQAAAAAAAVJ5AAAAAAACEnUAAAAAAALycQAAAAAAAAJxAAAAAAABMm0AAAAAAAJyaQAAAAAAA+JlAAAAAAABYmUAAAAAAAMCYQAAAAAAAMJhAAAAAAACkl0AAAAAAAByXQAAAAAAAmJZAAAAAAAAclkAAAAAAAKSVQAAAAAAAMJVAAAAAAADElEAAAAAAAFiUQAAAAAAA8JNAAAAAAACMk0AAAAAAACyTQAAAAAAAzJJAAAAAAAB0kkAAAAAAABySQAAAAAAAyJFAAAAAAAB0kUAAAAAAACSRQAAAAAAA2JBAAAAAAACMkEAAAAAAAESQQAAAAAAAAJBAAAAAAAB4j0AAAAAAAPCOQAAAAAAAcI5AAAAAAADwjUAAAAAAAHiNQAAAAAAACI1AAAAAAACQjEAAAAAAACCMQAAAAAAAuItAAAAAAABIi0AAAAAAAOCKQAAAAAAAgIpAAAAAAAAgikAAAAAAAMCJQAAAAAAAYIlAAAAAAAAIiUAAAAAAALCIQAAAAAAAWIhAAAAAAAAAiEAAAAAAALCHQAAAAAAAYIdAAAAAAAAQh0A=\",\"dtype\":\"float64\",\"shape\":[100]}}},\"id\":\"43805d01-381b-450a-a38e-54dad5a497b8\",\"type\":\"ColumnDataSource\"},{\"attributes\":{\"line_color\":\"Orange\",\"line_width\":2,\"x\":{\"field\":\"x\"},\"y\":{\"field\":\"y\"}},\"id\":\"c7c1870c-77cd-4ef6-a578-470ee478f488\",\"type\":\"Line\"},{\"attributes\":{},\"id\":\"32ac03e0-e881-4f13-a653-48c56a5977d3\",\"type\":\"CategoricalScale\"},{\"attributes\":{},\"id\":\"625396e0-ff57-4411-8df5-ab7c2bafe35f\",\"type\":\"SaveTool\"},{\"attributes\":{},\"id\":\"796b71c5-8544-423a-a0bc-dccedd877c0a\",\"type\":\"ResetTool\"},{\"attributes\":{\"callback\":null,\"end\":83965.2,\"start\":0},\"id\":\"39ff095b-c3e6-41f8-b554-ad1b334c3c34\",\"type\":\"DataRange1d\"},{\"attributes\":{\"callback\":null,\"factors\":[\"the\",\",\",\".\",\"of\",\"and\",\"to\",\"a\",\"in\",\"that\",\"is\",\"was\",\"he\",\"for\",\"``\",\"''\",\"it\",\"with\",\"as\",\"his\",\"on\",\"be\",\";\",\"at\",\"by\",\"i\",\"this\",\"had\",\"?\",\"not\",\"are\",\"but\",\"from\",\"or\",\"have\",\"an\",\"they\",\"which\",\"--\",\"one\",\"you\",\"were\",\"her\",\"all\",\"she\",\"there\",\"would\",\"their\",\"we\",\"him\",\"been\",\")\",\"has\",\"(\",\"when\",\"who\",\"will\",\"more\",\"if\",\"no\",\"out\",\"DG\",\"so\",\"said\",\"DGDGDGDG\",\"DGDG\",\"what\",\"up\",\"its\",\"about\",\":\",\"into\",\"than\",\"them\",\"can\",\"only\",\"other\",\"new\",\"some\",\"could\",\"time\",\"!\",\"these\",\"two\",\"may\",\"then\",\"do\",\"first\",\"any\",\"my\",\"now\",\"such\",\"like\",\"our\",\"over\",\"man\",\"me\",\"even\",\"most\",\"made\",\"also\"]},\"id\":\"943e64fc-c624-4c13-8a54-ed53c4546983\",\"type\":\"FactorRange\"},{\"attributes\":{\"overlay\":{\"id\":\"779388f0-ee50-4cd6-8d5b-b62097425bb3\",\"type\":\"BoxAnnotation\"}},\"id\":\"8bd9ff75-d5ef-4f29-b76f-648be7551486\",\"type\":\"BoxZoomTool\"},{\"attributes\":{},\"id\":\"d030a365-1a48-47e6-8075-858c2b0f2852\",\"type\":\"BasicTickFormatter\"},{\"attributes\":{\"active_drag\":\"auto\",\"active_inspect\":\"auto\",\"active_scroll\":\"auto\",\"active_tap\":\"auto\",\"tools\":[{\"id\":\"41c18d0a-fc01-4eb4-940b-1ed84a7e1594\",\"type\":\"PanTool\"},{\"id\":\"ac6d1fbb-1714-4220-a5f0-b6cfed8dffc2\",\"type\":\"WheelZoomTool\"},{\"id\":\"8bd9ff75-d5ef-4f29-b76f-648be7551486\",\"type\":\"BoxZoomTool\"},{\"id\":\"625396e0-ff57-4411-8df5-ab7c2bafe35f\",\"type\":\"SaveTool\"},{\"id\":\"796b71c5-8544-423a-a0bc-dccedd877c0a\",\"type\":\"ResetTool\"},{\"id\":\"5e5037f4-d157-402c-bc87-567eb44916a9\",\"type\":\"HelpTool\"},{\"id\":\"63787798-24fb-4c26-8072-4f407647c966\",\"type\":\"HoverTool\"}]},\"id\":\"a633ea66-61f5-4bf2-b1a6-f709e98e924c\",\"type\":\"Toolbar\"},{\"attributes\":{\"formatter\":{\"id\":\"b1cd65c5-7df2-4314-a231-35879fc8e9ae\",\"type\":\"CategoricalTickFormatter\"},\"plot\":{\"id\":\"144266a9-3695-4c2c-847d-85819eb11960\",\"subtype\":\"Figure\",\"type\":\"Plot\"},\"ticker\":{\"id\":\"3751cc4c-fdf4-4cbc-9ed8-44f8284d0c75\",\"type\":\"CategoricalTicker\"}},\"id\":\"a6d279d6-fde9-4c64-abd2-3276393593ac\",\"type\":\"CategoricalAxis\"},{\"attributes\":{},\"id\":\"cb128b19-4fc1-45e5-981b-f071107e355e\",\"type\":\"BasicTicker\"},{\"attributes\":{\"axis_label\":\"Count(w)\",\"formatter\":{\"id\":\"d030a365-1a48-47e6-8075-858c2b0f2852\",\"type\":\"BasicTickFormatter\"},\"plot\":{\"id\":\"144266a9-3695-4c2c-847d-85819eb11960\",\"subtype\":\"Figure\",\"type\":\"Plot\"},\"ticker\":{\"id\":\"cb128b19-4fc1-45e5-981b-f071107e355e\",\"type\":\"BasicTicker\"}},\"id\":\"0ad3dfda-dc70-4b6b-bd73-dc096d57a844\",\"type\":\"LinearAxis\"},{\"attributes\":{\"callback\":null,\"mode\":\"vline\",\"renderers\":[{\"id\":\"a01d508b-4e23-4c9a-9310-d0f8d106ce07\",\"type\":\"GlyphRenderer\"}],\"tooltips\":[[\"word\",\"@x\"],[\"count\",\"@top\"]]},\"id\":\"63787798-24fb-4c26-8072-4f407647c966\",\"type\":\"HoverTool\"},{\"attributes\":{\"source\":{\"id\":\"43805d01-381b-450a-a38e-54dad5a497b8\",\"type\":\"ColumnDataSource\"}},\"id\":\"63e97739-2396-4e0b-b2fe-712dd648ff40\",\"type\":\"CDSView\"},{\"attributes\":{\"bottom_units\":\"screen\",\"fill_alpha\":{\"value\":0.5},\"fill_color\":{\"value\":\"lightgrey\"},\"left_units\":\"screen\",\"level\":\"overlay\",\"line_alpha\":{\"value\":1.0},\"line_color\":{\"value\":\"black\"},\"line_dash\":[4,4],\"line_width\":{\"value\":2},\"plot\":null,\"render_mode\":\"css\",\"right_units\":\"screen\",\"top_units\":\"screen\"},\"id\":\"779388f0-ee50-4cd6-8d5b-b62097425bb3\",\"type\":\"BoxAnnotation\"},{\"attributes\":{\"below\":[{\"id\":\"a6d279d6-fde9-4c64-abd2-3276393593ac\",\"type\":\"CategoricalAxis\"}],\"left\":[{\"id\":\"0ad3dfda-dc70-4b6b-bd73-dc096d57a844\",\"type\":\"LinearAxis\"}],\"plot_height\":400,\"plot_width\":800,\"renderers\":[{\"id\":\"a6d279d6-fde9-4c64-abd2-3276393593ac\",\"type\":\"CategoricalAxis\"},{\"id\":\"977d9ed1-05b4-4029-ba0e-eb277946e91c\",\"type\":\"Grid\"},{\"id\":\"0ad3dfda-dc70-4b6b-bd73-dc096d57a844\",\"type\":\"LinearAxis\"},{\"id\":\"26ba20b4-5579-4cc2-9e96-62e55e1b61a4\",\"type\":\"Grid\"},{\"id\":\"779388f0-ee50-4cd6-8d5b-b62097425bb3\",\"type\":\"BoxAnnotation\"},{\"id\":\"a01d508b-4e23-4c9a-9310-d0f8d106ce07\",\"type\":\"GlyphRenderer\"},{\"id\":\"8400d416-d64a-44c8-8e0e-d29cd4c556d5\",\"type\":\"GlyphRenderer\"}],\"title\":{\"id\":\"73fd3d99-fac0-41a9-bd6b-a73a0d0ffb32\",\"type\":\"Title\"},\"toolbar\":{\"id\":\"a633ea66-61f5-4bf2-b1a6-f709e98e924c\",\"type\":\"Toolbar\"},\"x_range\":{\"id\":\"943e64fc-c624-4c13-8a54-ed53c4546983\",\"type\":\"FactorRange\"},\"x_scale\":{\"id\":\"32ac03e0-e881-4f13-a653-48c56a5977d3\",\"type\":\"CategoricalScale\"},\"y_range\":{\"id\":\"39ff095b-c3e6-41f8-b554-ad1b334c3c34\",\"type\":\"DataRange1d\"},\"y_scale\":{\"id\":\"55f03f16-ac97-4dfd-958d-372b8693347a\",\"type\":\"LinearScale\"}},\"id\":\"144266a9-3695-4c2c-847d-85819eb11960\",\"subtype\":\"Figure\",\"type\":\"Plot\"},{\"attributes\":{\"line_alpha\":0.1,\"line_color\":\"#1f77b4\",\"line_width\":2,\"x\":{\"field\":\"x\"},\"y\":{\"field\":\"y\"}},\"id\":\"54736f55-b1da-4a97-b4ff-7487f9daf231\",\"type\":\"Line\"},{\"attributes\":{\"dimension\":1,\"plot\":{\"id\":\"144266a9-3695-4c2c-847d-85819eb11960\",\"subtype\":\"Figure\",\"type\":\"Plot\"},\"ticker\":{\"id\":\"cb128b19-4fc1-45e5-981b-f071107e355e\",\"type\":\"BasicTicker\"}},\"id\":\"26ba20b4-5579-4cc2-9e96-62e55e1b61a4\",\"type\":\"Grid\"},{\"attributes\":{},\"id\":\"b1cd65c5-7df2-4314-a231-35879fc8e9ae\",\"type\":\"CategoricalTickFormatter\"},{\"attributes\":{},\"id\":\"3751cc4c-fdf4-4cbc-9ed8-44f8284d0c75\",\"type\":\"CategoricalTicker\"},{\"attributes\":{\"plot\":null,\"text\":\"\"},\"id\":\"73fd3d99-fac0-41a9-bd6b-a73a0d0ffb32\",\"type\":\"Title\"}],\"root_ids\":[\"144266a9-3695-4c2c-847d-85819eb11960\"]},\"title\":\"Bokeh Application\",\"version\":\"0.12.13\"}};\n",
       "  var render_items = [{\"docid\":\"ed2d15e4-b80c-4dbf-a925-6b1c00127497\",\"elementid\":\"5875dbfc-167a-4f5e-acfa-43768910cf1b\",\"modelid\":\"144266a9-3695-4c2c-847d-85819eb11960\"}];\n",
       "  root.Bokeh.embed.embed_items_notebook(docs_json, render_items);\n",
       "\n",
       "  }\n",
       "  if (root.Bokeh !== undefined) {\n",
       "    embed_document(root);\n",
       "  } else {\n",
       "    var attempts = 0;\n",
       "    var timer = setInterval(function(root) {\n",
       "      if (root.Bokeh !== undefined) {\n",
       "        embed_document(root);\n",
       "        clearInterval(timer);\n",
       "      }\n",
       "      attempts++;\n",
       "      if (attempts > 100) {\n",
       "        console.log(\"Bokeh: ERROR: Unable to run BokehJS code because BokehJS library is missing\")\n",
       "        clearInterval(timer);\n",
       "      }\n",
       "    }, 10, root)\n",
       "  }\n",
       "})(window);"
      ],
      "application/vnd.bokehjs_exec.v0+json": ""
     },
     "metadata": {
      "application/vnd.bokehjs_exec.v0+json": {
       "id": "144266a9-3695-4c2c-847d-85819eb11960"
      }
     },
     "output_type": "display_data"
    }
   ],
   "source": [
    "# This next line splits the pairs of <word, count> in the vocabulary into two lists:\n",
    "# 1.  a list of words (types)\n",
    "# 2.  a list of counts (per type)\n",
    "# with the property that the ith word in the list has its corresponding count in the ith counts.\n",
    "words, counts = zip(*vocab.unigram_counts.most_common(vocab.size))\n",
    "counts = np.array(counts, dtype=float)  # Avoid integer math.\n",
    "rank = 1 + np.arange(len(counts))  # rank is an array of [1, 2, 3, 4, ..., num_types]\n",
    "N = np.sum(counts)  # N = total # of tokens seen.\n",
    "p = counts / N  # p is an array the length of `words`.  #_times_word_seen / total_#_words\n",
    "\n",
    "# Fit a power law curve to the histogram above.\n",
    "# Optimize least-squares in log space.\n",
    "# See http://nlp.stanford.edu/IR-book/html/htmledition/zipfs-law-modeling-the-distribution-of-terms-1.html\n",
    "fit_func = lambda c: (np.log(c[0]*p) - np.log(c[0] * rank**c[1]))\n",
    "(a,b), _ = optimize.leastsq(fit_func, np.array([p[0], -1.0]))\n",
    "print(u\"Power law exponent: \\u03B2 = {:.02f}\".format(b))\n",
    "p_pred = (a * rank**b) / sum(a * rank**b)  # predict probabilities\n",
    "c_pred = N * p_pred  # predict counts\n",
    "\n",
    "\n",
    "# Plot counts, with fit curve.\n",
    "nplot = 100\n",
    "fig = bp.figure(x_range=words[:nplot], plot_width=800, plot_height=400)\n",
    "bars = fig.vbar(x=words[:nplot], width=0.8, top=counts[:nplot], hover_fill_color=\"firebrick\")\n",
    "fig.add_tools(HoverTool(tooltips=[(\"word\", \"@x\"), (\"count\", \"@top\")], renderers=[bars], mode=\"vline\"))\n",
    "fig.line(x=words[:nplot], y=np.round(c_pred)[:nplot], color=\"Orange\", line_width=2)\n",
    "fig.y_range.start = 0\n",
    "fig.y_range.end = 1.2*max(counts)\n",
    "fig.yaxis.axis_label = \"Count(w)\"\n",
    "fig.xgrid.grid_line_alpha = 0.5\n",
    "bp.show(fig)"
   ]
  },
  {
   "cell_type": "markdown",
   "metadata": {},
   "source": [
    "Why should we care about the form of this distribution? Power-law distributions like [Zipf's law](https://en.wikipedia.org/wiki/Zipf%E2%80%93Mandelbrot_law) have a **long tail**, which means that a large fraction of the tokens (words on the page) belong to types (words in the dictionary) that appear quite rarely. \n",
    "\n",
    "We can look at this directly by plotting the cumulative distribution function, *as a function of the count* $c(w)$:\n",
    "\n",
    "$$ f(k) = \\sum_{i \\in \\text{words}}^{|\\text{corpus}|} \\mathbf{1}\\{c(w_i) <= k\\} = \\sum_{j \\in \\text{types}}^{|V|} c(w_j)\\ \\mathbf{1}\\{c(w_j) <= k\\} $$\n",
    "\n",
    "This asks: for a given word on the page, how likely is $c(w) <= k$?\n",
    "\n",
    "The Brown corpus has about 1 million words (tokens), about 7% of which are the token \"the\" and 6% of which are commas. So, we'll plot our data on a log scale so that we can see what's going on for $k= 1, ..., 100$, as well as the higher counts ($c(\\text{the}) = 6.9 \\cdot 10^4$)."
   ]
  },
  {
   "cell_type": "code",
   "execution_count": 29,
   "metadata": {},
   "outputs": [
    {
     "data": {
      "text/html": [
       "\n",
       "<div class=\"bk-root\">\n",
       "    <div class=\"bk-plotdiv\" id=\"46c8c980-196b-4231-9379-93978a84b755\"></div>\n",
       "</div>"
      ]
     },
     "metadata": {},
     "output_type": "display_data"
    },
    {
     "data": {
      "application/javascript": [
       "(function(root) {\n",
       "  function embed_document(root) {\n",
       "    \n",
       "  var docs_json = {\"2dfc275d-c12d-4e8f-b316-00204c6a661b\":{\"roots\":{\"references\":[{\"attributes\":{\"fill_alpha\":{\"value\":0.1},\"fill_color\":{\"value\":\"#1f77b4\"},\"line_alpha\":{\"value\":0.1},\"line_color\":{\"value\":\"#1f77b4\"},\"x\":{\"field\":\"x\"},\"y\":{\"field\":\"y\"}},\"id\":\"41e8ab11-5ae6-466d-9748-dd5cc65807b9\",\"type\":\"Circle\"},{\"attributes\":{\"below\":[{\"id\":\"0eda68dd-1420-4e84-bc0a-8aae7df832e0\",\"type\":\"LogAxis\"}],\"left\":[{\"id\":\"e21ce765-5e35-460d-8dba-21eb79b666f2\",\"type\":\"LinearAxis\"}],\"plot_height\":400,\"plot_width\":800,\"renderers\":[{\"id\":\"0eda68dd-1420-4e84-bc0a-8aae7df832e0\",\"type\":\"LogAxis\"},{\"id\":\"1481c120-4b22-4e3b-bde4-e4ae454016be\",\"type\":\"Grid\"},{\"id\":\"e21ce765-5e35-460d-8dba-21eb79b666f2\",\"type\":\"LinearAxis\"},{\"id\":\"56299c87-6db0-484e-870c-0a7c2c270ada\",\"type\":\"Grid\"},{\"id\":\"5576e24b-46ee-4230-b01a-58ce8575879a\",\"type\":\"BoxAnnotation\"},{\"id\":\"e3b121ce-fed7-41a9-a220-c9fcb36607db\",\"type\":\"GlyphRenderer\"},{\"id\":\"dbc2fab2-ea73-4a6b-94b4-93366442695d\",\"type\":\"GlyphRenderer\"}],\"title\":{\"id\":\"1951ad7e-1be4-45df-8e95-1925ae416bc2\",\"type\":\"Title\"},\"toolbar\":{\"id\":\"ef016d91-5d5e-42de-b863-7060ce43888e\",\"type\":\"Toolbar\"},\"x_range\":{\"id\":\"eef2265c-e822-457a-b420-1f5da8432c9b\",\"type\":\"DataRange1d\"},\"x_scale\":{\"id\":\"bcbec895-f2f3-45ef-9260-527b6d07d08e\",\"type\":\"LogScale\"},\"y_range\":{\"id\":\"d2538c51-4b3a-4f89-86a5-b104f9850e54\",\"type\":\"DataRange1d\"},\"y_scale\":{\"id\":\"921f828e-50bf-446a-9c74-051962ecf4e0\",\"type\":\"LinearScale\"}},\"id\":\"c0d2ce09-3ea0-439c-877a-900a2fd5d530\",\"subtype\":\"Figure\",\"type\":\"Plot\"},{\"attributes\":{\"axis_label\":\"Count (log-scale)\",\"formatter\":{\"id\":\"483f2678-d452-42f6-8561-9152f1177d87\",\"type\":\"LogTickFormatter\"},\"plot\":{\"id\":\"c0d2ce09-3ea0-439c-877a-900a2fd5d530\",\"subtype\":\"Figure\",\"type\":\"Plot\"},\"ticker\":{\"id\":\"66cd0526-2443-4499-802e-6b8a71822a97\",\"type\":\"LogTicker\"}},\"id\":\"0eda68dd-1420-4e84-bc0a-8aae7df832e0\",\"type\":\"LogAxis\"},{\"attributes\":{\"callback\":null,\"column_names\":[\"x\",\"y\"],\"data\":{\"x\":{\"__ndarray__\":\"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\",\"dtype\":\"float64\",\"shape\":[559]},\"y\":{\"__ndarray__\":\"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\",\"dtype\":\"float64\",\"shape\":[559]}}},\"id\":\"77eeb6ff-9a5a-430e-9efa-a1b156ba5af8\",\"type\":\"ColumnDataSource\"},{\"attributes\":{},\"id\":\"ab4c69e8-fa10-4f09-858c-56b6cebef76b\",\"type\":\"PanTool\"},{\"attributes\":{\"data_source\":{\"id\":\"77eeb6ff-9a5a-430e-9efa-a1b156ba5af8\",\"type\":\"ColumnDataSource\"},\"glyph\":{\"id\":\"5a35fb61-7f81-401d-adf0-7e386bc3c0a3\",\"type\":\"Line\"},\"hover_glyph\":null,\"muted_glyph\":null,\"nonselection_glyph\":{\"id\":\"9cb0aacd-fd2f-4362-b83c-a2bcbf628548\",\"type\":\"Line\"},\"selection_glyph\":null,\"view\":{\"id\":\"8e18e584-6e47-4003-bc51-f1fb1eb6740d\",\"type\":\"CDSView\"}},\"id\":\"e3b121ce-fed7-41a9-a220-c9fcb36607db\",\"type\":\"GlyphRenderer\"},{\"attributes\":{},\"id\":\"9ef12a54-186c-4186-a2f8-ba873f6a3f6d\",\"type\":\"BasicTickFormatter\"},{\"attributes\":{\"fill_color\":{\"value\":\"white\"},\"line_color\":{\"value\":\"#1f77b4\"},\"x\":{\"field\":\"x\"},\"y\":{\"field\":\"y\"}},\"id\":\"f09e8731-46f1-4ef5-b9f0-deb31df4b9a0\",\"type\":\"Circle\"},{\"attributes\":{},\"id\":\"921f828e-50bf-446a-9c74-051962ecf4e0\",\"type\":\"LinearScale\"},{\"attributes\":{\"source\":{\"id\":\"77eeb6ff-9a5a-430e-9efa-a1b156ba5af8\",\"type\":\"ColumnDataSource\"}},\"id\":\"8e18e584-6e47-4003-bc51-f1fb1eb6740d\",\"type\":\"CDSView\"},{\"attributes\":{\"line_alpha\":0.1,\"line_color\":\"#1f77b4\",\"line_width\":2,\"x\":{\"field\":\"x\"},\"y\":{\"field\":\"y\"}},\"id\":\"9cb0aacd-fd2f-4362-b83c-a2bcbf628548\",\"type\":\"Line\"},{\"attributes\":{\"data_source\":{\"id\":\"ff43c9f0-5b41-4190-b95b-664fd159c4a3\",\"type\":\"ColumnDataSource\"},\"glyph\":{\"id\":\"f09e8731-46f1-4ef5-b9f0-deb31df4b9a0\",\"type\":\"Circle\"},\"hover_glyph\":null,\"muted_glyph\":null,\"nonselection_glyph\":{\"id\":\"41e8ab11-5ae6-466d-9748-dd5cc65807b9\",\"type\":\"Circle\"},\"selection_glyph\":null,\"view\":{\"id\":\"cc7ccef8-e6a8-4528-9d26-0a6d2a2afc63\",\"type\":\"CDSView\"}},\"id\":\"dbc2fab2-ea73-4a6b-94b4-93366442695d\",\"type\":\"GlyphRenderer\"},{\"attributes\":{\"ticker\":null},\"id\":\"483f2678-d452-42f6-8561-9152f1177d87\",\"type\":\"LogTickFormatter\"},{\"attributes\":{\"source\":{\"id\":\"ff43c9f0-5b41-4190-b95b-664fd159c4a3\",\"type\":\"ColumnDataSource\"}},\"id\":\"cc7ccef8-e6a8-4528-9d26-0a6d2a2afc63\",\"type\":\"CDSView\"},{\"attributes\":{\"active_drag\":\"auto\",\"active_inspect\":\"auto\",\"active_scroll\":\"auto\",\"active_tap\":\"auto\",\"tools\":[{\"id\":\"ab4c69e8-fa10-4f09-858c-56b6cebef76b\",\"type\":\"PanTool\"},{\"id\":\"6fc9e4a8-da31-43ed-ae30-7bf79a72e6ea\",\"type\":\"WheelZoomTool\"},{\"id\":\"053559fd-bfe5-4060-9087-1a2fe3f1df3e\",\"type\":\"BoxZoomTool\"},{\"id\":\"6b5eb67d-5bfb-4ec0-b57a-085d5f470dbb\",\"type\":\"SaveTool\"},{\"id\":\"e86e11f7-7ba0-4f90-878a-36725de76e84\",\"type\":\"ResetTool\"},{\"id\":\"472064f1-c6ae-4649-9a86-b598e2576693\",\"type\":\"HelpTool\"},{\"id\":\"170cbdcf-120f-4751-8d0e-817fb885dbd0\",\"type\":\"HoverTool\"}]},\"id\":\"ef016d91-5d5e-42de-b863-7060ce43888e\",\"type\":\"Toolbar\"},{\"attributes\":{},\"id\":\"bcbec895-f2f3-45ef-9260-527b6d07d08e\",\"type\":\"LogScale\"},{\"attributes\":{},\"id\":\"472064f1-c6ae-4649-9a86-b598e2576693\",\"type\":\"HelpTool\"},{\"attributes\":{\"callback\":null},\"id\":\"eef2265c-e822-457a-b420-1f5da8432c9b\",\"type\":\"DataRange1d\"},{\"attributes\":{},\"id\":\"e86e11f7-7ba0-4f90-878a-36725de76e84\",\"type\":\"ResetTool\"},{\"attributes\":{\"callback\":null,\"mode\":\"vline\",\"renderers\":[{\"id\":\"e3b121ce-fed7-41a9-a220-c9fcb36607db\",\"type\":\"GlyphRenderer\"}],\"tooltips\":[[\"count\",\"@x\"],[\"CDF\",\"@y\"]]},\"id\":\"170cbdcf-120f-4751-8d0e-817fb885dbd0\",\"type\":\"HoverTool\"},{\"attributes\":{\"callback\":null,\"start\":0},\"id\":\"d2538c51-4b3a-4f89-86a5-b104f9850e54\",\"type\":\"DataRange1d\"},{\"attributes\":{},\"id\":\"6b5eb67d-5bfb-4ec0-b57a-085d5f470dbb\",\"type\":\"SaveTool\"},{\"attributes\":{\"bottom_units\":\"screen\",\"fill_alpha\":{\"value\":0.5},\"fill_color\":{\"value\":\"lightgrey\"},\"left_units\":\"screen\",\"level\":\"overlay\",\"line_alpha\":{\"value\":1.0},\"line_color\":{\"value\":\"black\"},\"line_dash\":[4,4],\"line_width\":{\"value\":2},\"plot\":null,\"render_mode\":\"css\",\"right_units\":\"screen\",\"top_units\":\"screen\"},\"id\":\"5576e24b-46ee-4230-b01a-58ce8575879a\",\"type\":\"BoxAnnotation\"},{\"attributes\":{},\"id\":\"ee3ed668-ec3a-4b2d-ac2e-ae99c7c7548e\",\"type\":\"BasicTicker\"},{\"attributes\":{\"plot\":{\"id\":\"c0d2ce09-3ea0-439c-877a-900a2fd5d530\",\"subtype\":\"Figure\",\"type\":\"Plot\"},\"ticker\":{\"id\":\"66cd0526-2443-4499-802e-6b8a71822a97\",\"type\":\"LogTicker\"}},\"id\":\"1481c120-4b22-4e3b-bde4-e4ae454016be\",\"type\":\"Grid\"},{\"attributes\":{\"num_minor_ticks\":10},\"id\":\"66cd0526-2443-4499-802e-6b8a71822a97\",\"type\":\"LogTicker\"},{\"attributes\":{\"axis_label\":\"p(Count(w) < c)\",\"formatter\":{\"id\":\"9ef12a54-186c-4186-a2f8-ba873f6a3f6d\",\"type\":\"BasicTickFormatter\"},\"plot\":{\"id\":\"c0d2ce09-3ea0-439c-877a-900a2fd5d530\",\"subtype\":\"Figure\",\"type\":\"Plot\"},\"ticker\":{\"id\":\"ee3ed668-ec3a-4b2d-ac2e-ae99c7c7548e\",\"type\":\"BasicTicker\"}},\"id\":\"e21ce765-5e35-460d-8dba-21eb79b666f2\",\"type\":\"LinearAxis\"},{\"attributes\":{\"dimension\":1,\"plot\":{\"id\":\"c0d2ce09-3ea0-439c-877a-900a2fd5d530\",\"subtype\":\"Figure\",\"type\":\"Plot\"},\"ticker\":{\"id\":\"ee3ed668-ec3a-4b2d-ac2e-ae99c7c7548e\",\"type\":\"BasicTicker\"}},\"id\":\"56299c87-6db0-484e-870c-0a7c2c270ada\",\"type\":\"Grid\"},{\"attributes\":{},\"id\":\"6fc9e4a8-da31-43ed-ae30-7bf79a72e6ea\",\"type\":\"WheelZoomTool\"},{\"attributes\":{\"overlay\":{\"id\":\"5576e24b-46ee-4230-b01a-58ce8575879a\",\"type\":\"BoxAnnotation\"}},\"id\":\"053559fd-bfe5-4060-9087-1a2fe3f1df3e\",\"type\":\"BoxZoomTool\"},{\"attributes\":{\"plot\":null,\"text\":\"Cumulative Word Counts\"},\"id\":\"1951ad7e-1be4-45df-8e95-1925ae416bc2\",\"type\":\"Title\"},{\"attributes\":{\"line_color\":\"#1f77b4\",\"line_width\":2,\"x\":{\"field\":\"x\"},\"y\":{\"field\":\"y\"}},\"id\":\"5a35fb61-7f81-401d-adf0-7e386bc3c0a3\",\"type\":\"Line\"},{\"attributes\":{\"callback\":null,\"column_names\":[\"x\",\"y\"],\"data\":{\"x\":{\"__ndarray__\":\"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\",\"dtype\":\"float64\",\"shape\":[559]},\"y\":{\"__ndarray__\":\"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\",\"dtype\":\"float64\",\"shape\":[559]}}},\"id\":\"ff43c9f0-5b41-4190-b95b-664fd159c4a3\",\"type\":\"ColumnDataSource\"}],\"root_ids\":[\"c0d2ce09-3ea0-439c-877a-900a2fd5d530\"]},\"title\":\"Bokeh Application\",\"version\":\"0.12.13\"}};\n",
       "  var render_items = [{\"docid\":\"2dfc275d-c12d-4e8f-b316-00204c6a661b\",\"elementid\":\"46c8c980-196b-4231-9379-93978a84b755\",\"modelid\":\"c0d2ce09-3ea0-439c-877a-900a2fd5d530\"}];\n",
       "  root.Bokeh.embed.embed_items_notebook(docs_json, render_items);\n",
       "\n",
       "  }\n",
       "  if (root.Bokeh !== undefined) {\n",
       "    embed_document(root);\n",
       "  } else {\n",
       "    var attempts = 0;\n",
       "    var timer = setInterval(function(root) {\n",
       "      if (root.Bokeh !== undefined) {\n",
       "        embed_document(root);\n",
       "        clearInterval(timer);\n",
       "      }\n",
       "      attempts++;\n",
       "      if (attempts > 100) {\n",
       "        console.log(\"Bokeh: ERROR: Unable to run BokehJS code because BokehJS library is missing\")\n",
       "        clearInterval(timer);\n",
       "      }\n",
       "    }, 10, root)\n",
       "  }\n",
       "})(window);"
      ],
      "application/vnd.bokehjs_exec.v0+json": ""
     },
     "metadata": {
      "application/vnd.bokehjs_exec.v0+json": {
       "id": "c0d2ce09-3ea0-439c-877a-900a2fd5d530"
      }
     },
     "output_type": "display_data"
    }
   ],
   "source": [
    "# We'll use the histogram function with variable bins in order to get a stair-step plot.\n",
    "b_shift = 0.5  # So counts don't fall on bin boundaries.\n",
    "# Weights give us distribution by token; remove this to get distribution by type.\n",
    "h, bins = np.histogram(counts, weights=counts, bins=b_shift+np.concatenate([[0], np.unique(counts)]))\n",
    "\n",
    "fig = bp.figure(plot_width=800, plot_height=400, x_axis_type=\"log\", title=\"Cumulative Word Counts\")\n",
    "l = fig.line(x=bins[1:]-b_shift, y=np.cumsum(1.0*h)/np.sum(h), line_width=2)\n",
    "fig.circle(x=bins[1:]-b_shift, y=np.cumsum(1.0*h)/np.sum(h), fill_color=\"white\", size=4)\n",
    "fig.add_tools(HoverTool(tooltips=[(\"count\", \"@x\"), (\"CDF\", \"@y\")], renderers=[l], mode=\"vline\"))\n",
    "fig.y_range.start = 0\n",
    "fig.yaxis.axis_label = \"p(Count(w) < c)\"\n",
    "fig.xaxis.axis_label = \"Count (log-scale)\"\n",
    "bp.show(fig)"
   ]
  },
  {
   "cell_type": "markdown",
   "metadata": {},
   "source": [
    "**Exercise:** the cell above plots the distribution based on *tokens*, or words on the page. Modify the histogram code to make a similar plot, but based on *types*, or distinct words in the vocabulary. If we pick a random word in the dictionary, how many times are we likely to see it in a 1M word corpus?\n",
    "\n",
    "**Exercise (more involved):** compute the same function for the bigram and trigram distributions, and overlay it on a version of the plot above. (This should be similar to a graph from the async.) What does this tell you about the sparsity problem?"
   ]
  },
  {
   "cell_type": "markdown",
   "metadata": {},
   "source": [
    "# Language Modeling\n",
    "\n",
    "With a basic idea of what our corpus looks like, we can now embark on the task of modeling it. Recall from the async that language modeling is the task of predicting the next word, given the preceding history:\n",
    "\n",
    "$$ P(w_i | w_{i-1}, ..., w_0)$$\n",
    "\n",
    "## Perplexity\n",
    "\n",
    "How hard is this task? Let's use the unigram distribution as a starting point for our model. We saw that the distribution is very uneven - some words (types) are very common, while others are very rare. If the corpus (or a sample thereof) is our test set, we're going to see our training labels according to the distribution $y \\sim p(w)$. A smarter model might take some features such as immediately previous words and do a better job estimating the next word (let's call such features $x$ in general). We can summarize how uncertain our model is by looking at the entropy:"
   ]
  },
  {
   "cell_type": "code",
   "execution_count": 30,
   "metadata": {},
   "outputs": [
    {
     "name": "stdout",
     "output_type": "stream",
     "text": [
      "Unigram entropy: 10.066 bits\n"
     ]
    }
   ],
   "source": [
    "print(\"Unigram entropy: {:.03f} bits\".format(stats.entropy(p, base=2)))"
   ]
  },
  {
   "cell_type": "markdown",
   "metadata": {},
   "source": [
    "Bits are still a little unintuitive, but we can do better. Recall from Assignment 1 that the entropy of a _uniform_ distribution over $n$ elements is $ \\log_2 n $. So given some distribution with entropy $H(P) = k$ bits we can say that distribution $P$ is _as uncertain as_ a uniform distribution over $2^k$ elements.\n",
    "\n",
    "If we apply this to our unigram distribution, we have:"
   ]
  },
  {
   "cell_type": "code",
   "execution_count": 31,
   "metadata": {},
   "outputs": [
    {
     "name": "stdout",
     "output_type": "stream",
     "text": [
      "Distinct unigrams: 48171\n",
      "As uncertain as:   1071.78\n"
     ]
    }
   ],
   "source": [
    "print(\"Distinct unigrams: {:d}\".format(len(p)))\n",
    "print(\"As uncertain as:   {:.02f}\".format(2**stats.entropy(p, base=2)))"
   ]
  },
  {
   "cell_type": "markdown",
   "metadata": {},
   "source": [
    "Now in the (real) machine learning setting, we can't really measure the entropy of the underlying distribution $P(y\\ |\\ x) = P(w_i | w_{i-1}, ..., w_0)$. But, we can approximate the cross-entropy between the true distribution (for which we have samples $y_i \\sim P(y\\ |\\ x_i)$) and our _predicted_ distribution $\\hat{P}(y\\ |\\ x_i)$:\n",
    "\n",
    "$$ \\text{CE}(P, \\hat{P}) = - \\sum_{y,x} P(y\\ |\\ x) \\log_2 \\hat{P}(y\\ |\\ x) \\approx - \\frac{1}{N} \\sum_{i}^N \\log_2 \\hat{P}(y_i\\ |\\ x_i)$$\n",
    "\n",
    "This has the same units (bits), and we can exponentiate it in the same way to give us a measure of \"how confused\" the model is. This quantity is the **perplexity** of the model. A perplexity of $k$ tells us that the model is as uncertain as if it had to choose from $k$ elements with equal probability.\n",
    "\n",
    "So suppose we used the unigram model as our language model. We'll cheat for now and just use $\\hat{P}_{\\text{unigram}}(w) = \\tilde{p}(w) $ (where $\\tilde{p}$ denotes an estimate from a finite sample). Then our (training set) perplexity is:"
   ]
  },
  {
   "cell_type": "code",
   "execution_count": 32,
   "metadata": {},
   "outputs": [
    {
     "name": "stdout",
     "output_type": "stream",
     "text": [
      "Unigram language model\n",
      "Expected full-corpus perplexity: 1071.78\n"
     ]
    }
   ],
   "source": [
    "# scipy.stats.entropy with two arguments\n",
    "def cross_entropy(p, q):\n",
    "    return -1*np.sum(p * np.log2(q))\n",
    "\n",
    "print(\"Unigram language model\")\n",
    "print(\"Expected full-corpus perplexity: {:.02f}\".format(2**cross_entropy(p, q=p)))"
   ]
  },
  {
   "cell_type": "markdown",
   "metadata": {},
   "source": [
    "If we want to sanity-check it, we can do our usual machine learning loss calculation: look at all the examples (words), and take the average loss:"
   ]
  },
  {
   "cell_type": "code",
   "execution_count": 33,
   "metadata": {},
   "outputs": [
    {
     "name": "stderr",
     "output_type": "stream",
     "text": [
      "100%|██████████| 1161192/1161192 [00:05<00:00, 212314.90it/s]\n"
     ]
    },
    {
     "name": "stdout",
     "output_type": "stream",
     "text": [
      "Perplexity (full-corpus): 1071.78\n"
     ]
    }
   ],
   "source": [
    "word_to_prob = {w:p[i] for i,w in enumerate(words)}\n",
    "probs = [word_to_prob[utils.canonicalize_word(w)] \n",
    "         for w in ProgressBar(corpus.words())]\n",
    "perplexity = 2**(-1*np.sum(np.log2(probs))/len(probs))\n",
    "print(\"Perplexity (full-corpus): {:.02f}\".format(perplexity))"
   ]
  },
  {
   "cell_type": "markdown",
   "metadata": {},
   "source": [
    "In the two cells below, we test out our simple model by taking a piece of text with all the spaces removed, enumerating all possible ways of splitting it (efficiently using dynamic programming - more on that later in the course), scoring each, and then returning the highest scoring sequence.\n",
    "\n",
    "You can see we can apply even this **really** simple model to a neat application[1]!\n",
    "\n",
    "[1] Peter Norvig, a director of research at Google implemented this model here:  http://norvig.com/ngrams/ch14.pdf and extends it pretty far.  By the end, he has managed to decrypt WWI encryption using only this simple language model!"
   ]
  },
  {
   "cell_type": "code",
   "execution_count": 35,
   "metadata": {},
   "outputs": [
    {
     "data": {
      "text/plain": [
       "['hello', 'there', 'how', 'are', 'you']"
      ]
     },
     "execution_count": 35,
     "metadata": {},
     "output_type": "execute_result"
    }
   ],
   "source": [
    "segment.segment('hellotherehowareyou', vocab)"
   ]
  },
  {
   "cell_type": "code",
   "execution_count": 36,
   "metadata": {},
   "outputs": [
    {
     "data": {
      "text/plain": [
       "['dance', 'a', 'jig']"
      ]
     },
     "execution_count": 36,
     "metadata": {},
     "output_type": "execute_result"
    }
   ],
   "source": [
    "segment.segment('danceajig', vocab)"
   ]
  },
  {
   "cell_type": "code",
   "execution_count": 37,
   "metadata": {},
   "outputs": [
    {
     "data": {
      "text/plain": [
       "['the', 'cat', 'in', 'the', 'hat']"
      ]
     },
     "execution_count": 37,
     "metadata": {},
     "output_type": "execute_result"
    }
   ],
   "source": [
    "segment.segment('thecatinthehat', vocab)"
   ]
  },
  {
   "cell_type": "markdown",
   "metadata": {},
   "source": [
    "## N-Gram Language Models\n",
    "\n",
    "The unigram model isn't a very good one - it doesn't model any previous context at all. On the other hand, we can't model _all_ of the preceding words, because that history could get prohibitively long and extremely sparse. As a compromise, we'll make a _Markov assumption_ and limit ourselves to a finite history of $n$ words.\n",
    "\n",
    "For now, we'll build a trigram model, which considers the two preceding words:\n",
    "\n",
    "$$ P(w_i\\ |\\ w_{i-1}, ..., w_0) \\approx P(w_i\\ |\\ w_{i-1}, w_{i-2}) $$\n",
    "\n",
    "**Exercise:** how many possible trigrams are there?\n",
    "\n",
    "We'll need to store a table of the probabilities, indexed by triples $(w_i, w_{i-1}, w_{i-2})$. If we store every possible combination, it can get quite large. Assuming 8 bytes for each entry, we have:"
   ]
  },
  {
   "cell_type": "code",
   "execution_count": 44,
   "metadata": {},
   "outputs": [
    {
     "name": "stdout",
     "output_type": "stream",
     "text": [
      "Vocab size:         48,174 words\n",
      "Unigrams need:        376.36 kB\n",
      "Bigrams  need:      17705.80 MB\n",
      "Trigrams need:  852959083.65 MB\n",
      "Available:           5147.04 MB\n"
     ]
    }
   ],
   "source": [
    "import psutil\n",
    "print(\"Vocab size:     {:10,} words\".format(vocab.size))\n",
    "print(\"Unigrams need:  {:12.2f} kB\".format(8 * (vocab.size ** 1) / (2**10)))\n",
    "print(\"Bigrams  need:  {:12.2f} MB\".format(8 * (vocab.size ** 2) / (2**20)))\n",
    "print(\"Trigrams need:  {:12.2f} MB\".format(8 * (vocab.size ** 3) / (2**20)))\n",
    "print(\"Available:      {:12.2f} MB\".format(psutil.virtual_memory().available / (2**20)))"
   ]
  },
  {
   "cell_type": "markdown",
   "metadata": {},
   "source": [
    "Well, that's no good. We can store all possible unigrams, but after that we're toast.\n",
    "\n",
    "Thankfully, we don't have to store everything. Recall that most words only appear a handful of times, and that there are plenty of words in the English language that we don't see in our corpus at all. For bigrams and trigrams, the table will be quite sparse. We need only store the entries that we actually observe; the rest we can take to be zero, or estimate their values on the fly through smoothing or backoff.\n",
    "\n",
    "**Observation:** When building language models, be sure to only keep non-zero counts in your datastructures and assume anything missing is 0.\n",
    "\n",
    "**Exercise:** for a corpus of 1 million words and a vocabulary of 10000, what is the maximum number of bigrams that can be actually _observed_? How about trigrams?"
   ]
  },
  {
   "cell_type": "markdown",
   "metadata": {},
   "source": [
    "### Constructing our Model\n",
    "\n",
    "We'll represent our model with a nested map `context => word => probability`, where word is $w_i$ and for our trigram model, the context is the two preceding words $(w_{i-2}, w_{i-1})$.\n",
    "\n",
    "First, we'll go through the corpus and compute raw trigram counts $c(abc)$, which we'll then normalize into probabilities:\n",
    "\n",
    "$$  P_{abc} = P(w_i = c\\ |\\ w_{i-1} = b, w_{i-2} = a) = \\frac{\\mathrm{c(abc)}}{\\sum_{c'}\\mathrm{c(abc')}} = \\frac{C_{abc}}{\\sum_{c'} C_{abc'}} $$\n",
    "\n",
    "Here's the code for our model:"
   ]
  },
  {
   "cell_type": "code",
   "execution_count": 89,
   "metadata": {},
   "outputs": [],
   "source": [
    "hi = defaultdict(lambda: defaultdict(lambda: 0.0))\n",
    "hi[('alice', 'lam')]['sister'] += 1\n",
    "hi[('alice', 'lam')]['chibo'] += 5\n",
    "hi[('houston','lam')]['brother'] += 1"
   ]
  },
  {
   "cell_type": "code",
   "execution_count": 105,
   "metadata": {},
   "outputs": [],
   "source": [
    "hello = defaultdict(lambda: set())"
   ]
  },
  {
   "cell_type": "code",
   "execution_count": 106,
   "metadata": {
    "collapsed": true
   },
   "outputs": [],
   "source": [
    "hello.update({'chibo':('alice','lam')})"
   ]
  },
  {
   "cell_type": "code",
   "execution_count": 110,
   "metadata": {
    "collapsed": true
   },
   "outputs": [],
   "source": [
    "hello.update({'chibo':('awesome')})"
   ]
  },
  {
   "cell_type": "code",
   "execution_count": 112,
   "metadata": {},
   "outputs": [
    {
     "data": {
      "text/plain": [
       "defaultdict(<function __main__.<lambda>>, {'chibo': 'awesome'})"
      ]
     },
     "execution_count": 112,
     "metadata": {},
     "output_type": "execute_result"
    }
   ],
   "source": [
    "hello"
   ]
  },
  {
   "cell_type": "code",
   "execution_count": 90,
   "metadata": {
    "collapsed": true
   },
   "outputs": [],
   "source": [
    "k = 2"
   ]
  },
  {
   "cell_type": "code",
   "execution_count": 103,
   "metadata": {},
   "outputs": [
    {
     "name": "stdout",
     "output_type": "stream",
     "text": [
      "('alice', 'lam')\n",
      "defaultdict(<function <lambda>.<locals>.<lambda> at 0x134a7c510>, {'sister': 1.0, 'chibo': 5.0})\n",
      "dict_values([1.0, 5.0])\n",
      "2\n",
      "6.0\n",
      "sister\n",
      "chibo\n",
      "('houston', 'lam')\n",
      "defaultdict(<function <lambda>.<locals>.<lambda> at 0x134a7c378>, {'brother': 1.0})\n",
      "dict_values([1.0])\n",
      "1\n",
      "1.0\n",
      "brother\n"
     ]
    }
   ],
   "source": [
    "for context1, ctr1 in hi.items():\n",
    "    print (context1)\n",
    "    print (ctr1)\n",
    "    print (ctr1.values())\n",
    "    print (len(ctr1.values()))\n",
    "    print (sum(ctr1.values()))\n",
    "    for word in ctr1.keys():\n",
    "        print (word)"
   ]
  },
  {
   "cell_type": "code",
   "execution_count": 86,
   "metadata": {},
   "outputs": [
    {
     "data": {
      "text/plain": [
       "2"
      ]
     },
     "execution_count": 86,
     "metadata": {},
     "output_type": "execute_result"
    }
   ],
   "source": [
    "len(hi['alice','lam'].items())"
   ]
  },
  {
   "cell_type": "code",
   "execution_count": 87,
   "metadata": {},
   "outputs": [],
   "source": [
    "context1, ctr1 = hi['alice','lam']"
   ]
  },
  {
   "cell_type": "code",
   "execution_count": 88,
   "metadata": {},
   "outputs": [
    {
     "data": {
      "text/plain": [
       "'chibo'"
      ]
     },
     "execution_count": 88,
     "metadata": {},
     "output_type": "execute_result"
    }
   ],
   "source": [
    "ctr1"
   ]
  },
  {
   "cell_type": "code",
   "execution_count": 73,
   "metadata": {},
   "outputs": [
    {
     "data": {
      "text/plain": [
       "3.0"
      ]
     },
     "execution_count": 73,
     "metadata": {},
     "output_type": "execute_result"
    }
   ],
   "source": [
    "(hi['alice','lam'].get('sister', 0.0) + k) / (sum(hi['alice','lam'].values) + k * "
   ]
  },
  {
   "cell_type": "code",
   "execution_count": 71,
   "metadata": {},
   "outputs": [
    {
     "name": "stdout",
     "output_type": "stream",
     "text": [
      "defaultdict(<function <lambda>.<locals>.<lambda> at 0x134a41b70>, {'sister': 1.0, 'chibo': 5.0})\n",
      "6.0\n",
      "defaultdict(<function <lambda>.<locals>.<lambda> at 0x134a419d8>, {'brother': 1.0})\n",
      "1.0\n"
     ]
    }
   ],
   "source": [
    "for context, ctr in hi.items():\n",
    "#    print (context)\n",
    "    print(ctr)\n",
    "    print (sum(ctr.values()))\n",
    "#    print (sum(ctr.items()))"
   ]
  },
  {
   "cell_type": "code",
   "execution_count": 45,
   "metadata": {
    "collapsed": true
   },
   "outputs": [],
   "source": [
    "from collections import defaultdict\n",
    "\n",
    "def normalize_counter(c):\n",
    "    \"\"\"Given a dictionary of <item, counts>, return <item, fraction>.\"\"\"\n",
    "    total = sum(c.values())\n",
    "    return {w:float(c[w])/total for w in c}\n",
    "\n",
    "class SimpleTrigramLM(object):\n",
    "    def __init__(self, words):\n",
    "        \"\"\"Build our simple trigram model.\"\"\"\n",
    "        # Raw trigram counts over the corpus. \n",
    "        # c(w | w_1 w_2) = self.counts[(w_2,w_1)][w]\n",
    "        self.counts = defaultdict(lambda: defaultdict(lambda: 0.0))\n",
    "    \n",
    "        # Iterate through the word stream once.\n",
    "        w_1, w_2 = None, None\n",
    "        for word in words:\n",
    "            if w_1 is not None and w_2 is not None:\n",
    "                # Increment trigram count.\n",
    "                self.counts[(w_2,w_1)][word] += 1\n",
    "            # Shift context along the stream of words.\n",
    "            w_2 = w_1\n",
    "            w_1 = word\n",
    "            \n",
    "        # Normalize so that for each context we have a valid probability\n",
    "        # distribution (i.e. adds up to 1.0) of possible next tokens.\n",
    "        self.probas = defaultdict(lambda: defaultdict(lambda: 0.0))\n",
    "        for context, ctr in self.counts.items():\n",
    "            self.probas[context] = normalize_counter(ctr)\n",
    "            \n",
    "    def next_word_proba(self, word, seq):\n",
    "        \"\"\"Compute p(word | seq)\"\"\"\n",
    "        context = tuple(seq[-2:])  # last two words\n",
    "        return self.probas[context].get(word, 0.0)\n",
    "    \n",
    "    def predict_next(self, seq):\n",
    "        \"\"\"Sample a word from the conditional distribution.\"\"\"\n",
    "        context = tuple(seq[-2:])  # last two words\n",
    "        pc = self.probas[context]  # conditional distribution\n",
    "        words, probs = zip(*pc.items())  # convert to list\n",
    "        return np.random.choice(words, p=probs)\n",
    "    \n",
    "    def score_seq(self, seq, verbose=False):\n",
    "        \"\"\"Compute log probability (base 2) of the given sequence.\"\"\"\n",
    "        score = 0.0\n",
    "        count = 0\n",
    "        # Start at third word, since we need a full context.\n",
    "        for i in range(2, len(seq)):\n",
    "            if (seq[i] == \"<s>\" or seq[i] == \"</s>\"):\n",
    "                continue  # Don't count special tokens in score.\n",
    "            s = np.log2(self.next_word_proba(seq[i], seq[i-2:i]))\n",
    "            score += s\n",
    "            count += 1\n",
    "            # DEBUG\n",
    "            if verbose:\n",
    "                print(\"log P({:s} | {:s}) = {.03f}\".format(seq[i], \" \".join(seq[i-2:i]), s))\n",
    "        return score, count\n"
   ]
  },
  {
   "cell_type": "markdown",
   "metadata": {},
   "source": [
    "### Training\n",
    "\n",
    "Let's train our model. We'll do a proper train-test split this time, so we can evaluate on unseen data. This means that we also have to fix our vocabulary based on the *training* set - which means that some unseen words in the test set will get replaced by `<unk>`. The `Vocabulary` helper class will take care of this for us."
   ]
  },
  {
   "cell_type": "code",
   "execution_count": 46,
   "metadata": {},
   "outputs": [
    {
     "name": "stdout",
     "output_type": "stream",
     "text": [
      "Loaded 57,340 sentences (1.16119e+06 tokens)\n",
      "Training set: 45,872 sentences (929,539 tokens)\n",
      "Test set: 11,468 sentences (231,653 tokens)\n"
     ]
    }
   ],
   "source": [
    "train_sents, test_sents = utils.get_train_test_sents(corpus, split=0.8, shuffle=True)"
   ]
  },
  {
   "cell_type": "code",
   "execution_count": 47,
   "metadata": {},
   "outputs": [
    {
     "name": "stderr",
     "output_type": "stream",
     "text": [
      "100%|██████████| 929539/929539 [00:03<00:00, 239252.38it/s]\n"
     ]
    },
    {
     "name": "stdout",
     "output_type": "stream",
     "text": [
      "Train set vocabulary: 43707 words\n"
     ]
    }
   ],
   "source": [
    "vocab = vocabulary.Vocabulary(utils.canonicalize_word(w) for w in ProgressBar(utils.flatten(train_sents)))\n",
    "print(\"Train set vocabulary: %d words\" % vocab.size)"
   ]
  },
  {
   "cell_type": "markdown",
   "metadata": {},
   "source": [
    "#### A note on Preprocessing\n",
    "\n",
    "We didn't do this for the unigram LM, but when modeling sentences it's helpful to add special beginning-of-sentence (`<s>`) and end-of-sentence (`</s>`) tokens. \n",
    "\n",
    "This lets the model estimate the probability of a word appearing at the beginning of a sentence, and lets it model the end of a sentence properly, since periods or other punctuation aren't always an accurate guide (e.g. `\"Dr.\"` or `\"Yahoo!\"`).\n",
    "\n",
    "Our padded sentences will look like this:\n",
    "```\n",
    "<s> <s> the cat sat in the hat . </s>\n",
    "```\n",
    "**Exercise:** why do we add two `<s>` tokens at the beginning? (*Hint: this is specific to our trigram model.*)"
   ]
  },
  {
   "cell_type": "code",
   "execution_count": 48,
   "metadata": {},
   "outputs": [
    {
     "name": "stderr",
     "output_type": "stream",
     "text": [
      "100%|██████████| 1067155/1067155 [00:01<00:00, 1056247.03it/s]\n",
      "100%|██████████| 266057/266057 [00:00<00:00, 911023.02it/s]\n"
     ]
    },
    {
     "name": "stdout",
     "output_type": "stream",
     "text": [
      "Building trigram LM...\n",
      "done in 3.47 s\n"
     ]
    }
   ],
   "source": [
    "def sents_to_tokens(sents):\n",
    "    \"\"\"Returns an flattened list of the words in the sentences, with padding for a trigram model.\"\"\"\n",
    "    padded_sentences = ([\"<s>\", \"<s>\"] + s + [\"</s>\"] for s in sents)\n",
    "    # This will canonicalize words, and replace anything not in vocab with <unk>\n",
    "    return np.array([utils.canonicalize_word(w, wordset=vocab.wordset) \n",
    "                     for w in ProgressBar(utils.flatten(padded_sentences))], dtype=object)\n",
    "\n",
    "train_tokens = sents_to_tokens(train_sents)\n",
    "test_tokens = sents_to_tokens(test_sents)\n",
    "\n",
    "t0 = time.time()\n",
    "print(\"Building trigram LM...\",)\n",
    "lm = SimpleTrigramLM(train_tokens)\n",
    "print(\"done in %.02f s\" % (time.time() - t0))"
   ]
  },
  {
   "cell_type": "markdown",
   "metadata": {},
   "source": [
    "## Sampling Sentences\n",
    "\n",
    "Before we run scoring, let's look at some generated sentences from our model. We'll generate them sequentially, one token at a time:"
   ]
  },
  {
   "cell_type": "code",
   "execution_count": 49,
   "metadata": {},
   "outputs": [
    {
     "name": "stdout",
     "output_type": "stream",
     "text": [
      "<s> <s> six </s>\n",
      "[1 tokens; log P(seq): -11.58]\n",
      "\n",
      "<s> <s> she asked that i can unhook and pull him in school '' , `` and even historians of science ,\n",
      "[20 tokens; log P(seq): -68.04]\n",
      "\n",
      "<s> <s> the usga open in the direction of increasing thickness is used as carriers or diluents for medicines administered by injection\n",
      "[20 tokens; log P(seq): -46.50]\n",
      "\n",
      "<s> <s> he thereby precipitated a bitter memory . </s>\n",
      "[7 tokens; log P(seq): -19.19]\n",
      "\n",
      "<s> <s> `` well , goodbye '' , an overdeveloped sense of waste paper and eked out in DGDGDG and DGDGDG mg/l\n",
      "[20 tokens; log P(seq): -60.94]\n",
      "\n"
     ]
    }
   ],
   "source": [
    "max_length = 20\n",
    "num_sentences = 5\n",
    "\n",
    "for _ in range(num_sentences):\n",
    "    seq = [\"<s>\", \"<s>\"]\n",
    "    for i in range(max_length):\n",
    "        seq.append(lm.predict_next(seq))\n",
    "        # Stop at end-of-sentence\n",
    "        if seq[-1] == \"</s>\": break\n",
    "    print(\" \".join(seq))\n",
    "    print(\"[{1:d} tokens; log P(seq): {0:.02f}]\".format(*lm.score_seq(seq)))\n",
    "    print(\"\")"
   ]
  },
  {
   "cell_type": "markdown",
   "metadata": {},
   "source": [
    "## Scoring our model\n",
    "\n",
    "We'll score our model by running the `score_seq` function, which computes \n",
    "\n",
    "$$ \\text{CE}_{\\text{total}}(y, \\hat{y}) = \\sum_{i=2}^N \\log_2 \\hat{p}(w_i\\ |\\ w_{i-1}, w_{i-2}) $$\n",
    "\n",
    "This is the cross-entropy loss, which is equal to $-1$ times the log-likelihood of the data under our model. As usual, we'll exponentiate to get the perplexity score:"
   ]
  },
  {
   "cell_type": "code",
   "execution_count": 50,
   "metadata": {},
   "outputs": [
    {
     "name": "stdout",
     "output_type": "stream",
     "text": [
      "Train perplexity: 7.44\n"
     ]
    },
    {
     "name": "stderr",
     "output_type": "stream",
     "text": [
      "/Users/alicelam/anaconda2/envs/tensorflow/lib/python3.6/site-packages/ipykernel_launcher.py:51: RuntimeWarning: divide by zero encountered in log2\n"
     ]
    },
    {
     "name": "stdout",
     "output_type": "stream",
     "text": [
      "Test perplexity: inf\n"
     ]
    }
   ],
   "source": [
    "log_p_data, num_real_tokens = lm.score_seq(train_tokens)\n",
    "print(\"Train perplexity: {:.02f}\".format(2**(-1*log_p_data/num_real_tokens)))\n",
    "\n",
    "log_p_data, num_real_tokens = lm.score_seq(test_tokens)\n",
    "print(\"Test perplexity: {:.02f}\".format(2**(-1*log_p_data/num_real_tokens)))"
   ]
  },
  {
   "cell_type": "markdown",
   "metadata": {},
   "source": [
    "What's going on here? Our model gets an absurdly low perplexity on the training data, but a perplexity of _infinity_ on the test data.\n",
    "\n",
    "**Answer:** the n-gram model badly overfits without any smoothing."
   ]
  },
  {
   "cell_type": "markdown",
   "metadata": {},
   "source": [
    "## Smoothing and Handling the Unknown\n",
    "\n",
    "Our simple model doesn't have any real mechanism for handling unknown words - if we feed something unseen to `score_seq`, it will assign it a probability of zero:"
   ]
  },
  {
   "cell_type": "code",
   "execution_count": 51,
   "metadata": {},
   "outputs": [
    {
     "name": "stderr",
     "output_type": "stream",
     "text": [
      "/Users/alicelam/anaconda2/envs/tensorflow/lib/python3.6/site-packages/ipykernel_launcher.py:51: RuntimeWarning: divide by zero encountered in log2\n"
     ]
    },
    {
     "data": {
      "text/plain": [
       "-inf"
      ]
     },
     "execution_count": 51,
     "metadata": {},
     "output_type": "execute_result"
    }
   ],
   "source": [
    "lm.score_seq([\"<s>\", \"i\", \"love\", \"w266\", \"</s>\"])[0]"
   ]
  },
  {
   "cell_type": "markdown",
   "metadata": {},
   "source": [
    "This is the cause of the infinite perplexity, above: $\\log_2 0 = -\\infty $. \n",
    "\n",
    "**Exercise:** besides unknown words, when else would the un-smoothed trigram model predict $p(w\\ |\\ w_{i-1}, w_{i-2}) = 0$ ?\n",
    "\n",
    "Is assuming zero probabilities realistic? Let's look back at our unigram distribution:"
   ]
  },
  {
   "cell_type": "code",
   "execution_count": 52,
   "metadata": {},
   "outputs": [
    {
     "name": "stdout",
     "output_type": "stream",
     "text": [
      "% words seen only once: 1.80%\n"
     ]
    }
   ],
   "source": [
    "print(\"% words seen only once: {:.02%}\".format(sum(counts * (counts == 1)) / sum(counts)))"
   ]
  },
  {
   "cell_type": "markdown",
   "metadata": {},
   "source": [
    "About 1 in 50 words were seen only once in our corpus, so we might expect a comparable fraction of words in a new sample to also be previously-unseen:"
   ]
  },
  {
   "cell_type": "code",
   "execution_count": 53,
   "metadata": {},
   "outputs": [
    {
     "name": "stdout",
     "output_type": "stream",
     "text": [
      "% <unk> in test set: 1.83%\n"
     ]
    }
   ],
   "source": [
    "print(\"% <unk> in test set: {:.02%}\".format(np.sum(np.array(test_tokens) == \"<unk>\") / len(test_tokens)))"
   ]
  },
  {
   "cell_type": "markdown",
   "metadata": {},
   "source": [
    "If we want to use our language model in the wild, we'll need to implement some kind of smoothing to hedge our bets whenever these come up. This will be a major focus of Assignment 2, in which you'll build on the `SimpleTrigramLM` by implementing Laplace (add-k) and Kneser-Ney smoothing."
   ]
  }
 ],
 "metadata": {
  "anaconda-cloud": {},
  "kernelspec": {
   "display_name": "Python 3",
   "language": "python",
   "name": "python3"
  }
 },
 "nbformat": 4,
 "nbformat_minor": 1
}
